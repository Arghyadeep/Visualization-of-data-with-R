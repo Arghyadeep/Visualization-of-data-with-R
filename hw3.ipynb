{
 "cells": [
  {
   "cell_type": "markdown",
   "metadata": {},
   "source": [
    "Before you turn this problem set in, make sure everything runs as expected. First, **restart the kernel** (in the menubar, select Kernel$\\rightarrow$Restart) and then **run all cells** (in the menubar, select Cell$\\rightarrow$Run All). Note that in code sections, you must replace `stop(\"Not Implemented\")` with your code. Otherwise, you will have points automatically deducted in the grading process.\n",
    "\n",
    "**Please do not rename this file.**\n",
    "\n",
    "Make sure you fill in any place that says `YOUR CODE HERE` or \"YOUR ANSWER/EXPLANATION HERE\", as well as your name below:"
   ]
  },
  {
   "cell_type": "code",
   "execution_count": null,
   "metadata": {
    "collapsed": true
   },
   "outputs": [],
   "source": [
    "NAME = \"Arghyadeep Giri\""
   ]
  },
  {
   "cell_type": "markdown",
   "metadata": {},
   "source": [
    "---"
   ]
  },
  {
   "cell_type": "markdown",
   "metadata": {
    "deletable": false,
    "editable": false,
    "nbgrader": {
     "checksum": "b7102a216454d58d4e785300d5a9004b",
     "grade": false,
     "grade_id": "problem_1",
     "locked": true,
     "schema_version": 1,
     "solution": false
    }
   },
   "source": [
    "# Problem  1\n",
    "\n",
    "As has been previously discussed, there are many classes for objects in R. One such class is the `Date` class. Write a simple function called `days_old` that calculates how many days old someone is based on their birthday, given as a `Date`-class object. This code should work on any date someone tries to run it, and make sure that the result is a numeric-class object.\n",
    "\n",
    "Hint: Check out the function `Sys.Date`."
   ]
  },
  {
   "cell_type": "code",
   "execution_count": null,
   "metadata": {
    "collapsed": true,
    "deletable": false,
    "nbgrader": {
     "checksum": "9b0597a6ddab7be1ea21a7c2df07aff6",
     "grade": false,
     "grade_id": "problem_1_code",
     "locked": false,
     "schema_version": 1,
     "solution": true
    }
   },
   "outputs": [],
   "source": [
    "days_old <- function(x){\n",
    "    today = as.Date(Sys.Date())\n",
    "    difference = today - x\n",
    "    return(as.numeric(substr(difference,1,10)))\n",
    "}"
   ]
  },
  {
   "cell_type": "markdown",
   "metadata": {},
   "source": [
    "The following test will see if your function works correctly. Make sure to test your code on something that you know the age of, in days."
   ]
  },
  {
   "cell_type": "code",
   "execution_count": null,
   "metadata": {
    "collapsed": true,
    "deletable": false,
    "editable": false,
    "nbgrader": {
     "checksum": "21ded0c485544ee71170c7e4b78ea36e",
     "grade": true,
     "grade_id": "problem_1_test",
     "locked": true,
     "points": 1,
     "schema_version": 1,
     "solution": false
    }
   },
   "outputs": [],
   "source": [
    "stopifnot(is.numeric(days_old(as.Date(\"2010-07-17\"))))"
   ]
  },
  {
   "cell_type": "markdown",
   "metadata": {
    "deletable": false,
    "editable": false,
    "nbgrader": {
     "checksum": "a90bbd7cf2c0b043fb4757bba8886860",
     "grade": false,
     "grade_id": "problem_2",
     "locked": true,
     "schema_version": 1,
     "solution": false
    }
   },
   "source": [
    "---\n",
    "\n",
    "# Problem 2\n",
    "\n",
    "Let's imagine that there are no `sum` or `mean` functions in R. Write a function to find the mean (average) of a vector of numbers without using either of those functions."
   ]
  },
  {
   "cell_type": "code",
   "execution_count": null,
   "metadata": {
    "collapsed": true,
    "deletable": false,
    "nbgrader": {
     "checksum": "2ecef4ca1f99c966bcfbcf651cba1e4b",
     "grade": true,
     "grade_id": "problem_2_code",
     "locked": false,
     "points": 1,
     "schema_version": 1,
     "solution": true
    }
   },
   "outputs": [],
   "source": [
    "my_mean <- function(x){\n",
    "    sum = 0\n",
    "    for (i in x){\n",
    "       sum = sum + i \n",
    "    }\n",
    "    return(sum/length(x))\n",
    "}"
   ]
  },
  {
   "cell_type": "markdown",
   "metadata": {},
   "source": [
    "Let's test that your function works."
   ]
  },
  {
   "cell_type": "code",
   "execution_count": null,
   "metadata": {
    "collapsed": true,
    "deletable": false,
    "editable": false,
    "nbgrader": {
     "checksum": "bc28471cf5391308ab6e7526860f8792",
     "grade": true,
     "grade_id": "problem_2_test",
     "locked": true,
     "points": 1,
     "schema_version": 1,
     "solution": false
    }
   },
   "outputs": [],
   "source": [
    "stopifnot(my_mean(c(1:9)) == mean(c(1:9)))"
   ]
  },
  {
   "cell_type": "markdown",
   "metadata": {},
   "source": [
    "---\n",
    "\n",
    "# Problem 3\n",
    "\n",
    "Using the `iris` data set in R, write a function using a `for` loop and separate `if` and `else` statements to output a character vector of length 150 such that each element is either a string that reads \"Sepal width is less than 3!\" or \"Sepal width is greater than or equal to 3!\", based on the `Sepal.Width` variable. The input for your function should be `iris$Sepal.Width`."
   ]
  },
  {
   "cell_type": "code",
   "execution_count": null,
   "metadata": {
    "collapsed": true,
    "deletable": false,
    "nbgrader": {
     "checksum": "9323f22a0c78cf050d56ef46c9354cf6",
     "grade": true,
     "grade_id": "problem_3_part_1_code",
     "locked": false,
     "points": 1,
     "schema_version": 1,
     "solution": true
    }
   },
   "outputs": [],
   "source": [
    "data(\"iris\")\n",
    "sepal_width_group_for <- function(x = iris$Sepal.Width){\n",
    "    result = character()\n",
    "    count = 1\n",
    "    for (i in x){\n",
    "        if (i < 3){\n",
    "            result[count] = \"Sepal width is less than 3!\"\n",
    "            count = count+1\n",
    "        }\n",
    "        else{\n",
    "            result[count] =  \"Sepal width is greater than or equal to 3!\"\n",
    "            count = count+1\n",
    "        }\n",
    "        \n",
    "    }\n",
    "    return(result)\n",
    "}"
   ]
  },
  {
   "cell_type": "markdown",
   "metadata": {},
   "source": [
    "Next, do the same thing using the `ifelse` function."
   ]
  },
  {
   "cell_type": "code",
   "execution_count": null,
   "metadata": {
    "collapsed": true,
    "deletable": false,
    "nbgrader": {
     "checksum": "df7e64f04535c72d2870b28b46f3f051",
     "grade": true,
     "grade_id": "problem_3_part_2_code",
     "locked": false,
     "points": 1,
     "schema_version": 1,
     "solution": true
    }
   },
   "outputs": [],
   "source": [
    "sepal_width_group_ifelse <- function(x = iris$Sepal.Width){\n",
    "    return(ifelse(x<3,\"Sepal width is less than 3!\",\"Sepal width is greater than or equal to 3!\"))\n",
    "}"
   ]
  },
  {
   "cell_type": "markdown",
   "metadata": {},
   "source": [
    "Finally, do the same thing using the `sapply` function with the `sepal_width_group_ifelse` function. Note that you will not be able to use the `sapply` function if your input is `iris$Sepal.Width`. See the help page for details on how the `sapply` function works."
   ]
  },
  {
   "cell_type": "code",
   "execution_count": null,
   "metadata": {
    "collapsed": true,
    "deletable": false,
    "nbgrader": {
     "checksum": "d5843c3f348392c82f00b951d850a813",
     "grade": true,
     "grade_id": "problem_3_part_3_code",
     "locked": false,
     "points": 1,
     "schema_version": 1,
     "solution": true
    }
   },
   "outputs": [],
   "source": [
    "sepal_width_group_apply <- function(x = iris$Sepal.Width){\n",
    "    result = sapply(x, function(y) {ifelse(y<3,\"Sepal width is less than 3!\",\"Sepal width is greater than or equal to 3!\")})\n",
    "    return(result)\n",
    "}"
   ]
  },
  {
   "cell_type": "markdown",
   "metadata": {},
   "source": [
    "Now test to see that all of your functions work."
   ]
  },
  {
   "cell_type": "code",
   "execution_count": null,
   "metadata": {
    "collapsed": true,
    "deletable": false,
    "editable": false,
    "nbgrader": {
     "checksum": "12c07d0507489dc24a1dd5e6976c7714",
     "grade": true,
     "grade_id": "problem_3_test",
     "locked": true,
     "points": 1,
     "schema_version": 1,
     "solution": false
    }
   },
   "outputs": [],
   "source": [
    "stopifnot(sepal_width_group_for() == sepal_width_group_ifelse(),\n",
    "         sepal_width_group_for() == sepal_width_group_apply(),\n",
    "         sepal_width_group_ifelse() == sepal_width_group_apply())"
   ]
  },
  {
   "cell_type": "markdown",
   "metadata": {},
   "source": [
    "---\n",
    "\n",
    "# Problem 4\n",
    "\n",
    "One of the best features of the `apply` function is that user-defined functions can be used. For example, given a matrix, one could use the apply function to subtract each column mean from each value using the code:"
   ]
  },
  {
   "cell_type": "code",
   "execution_count": null,
   "metadata": {
    "collapsed": true
   },
   "outputs": [],
   "source": [
    "set.seed(95064)\n",
    "x <- matrix(rpois(25,10),5,5)\n",
    "x\n",
    "apply(x,2,function(each_column){each_column - mean(each_column)})"
   ]
  },
  {
   "cell_type": "markdown",
   "metadata": {},
   "source": [
    "Create a function that takes a matrix as an input and outputs the difference between each data point and its column minimum divided by the column range (the maximum minus the minimum) using the `apply` function. \n",
    "\n",
    "As a hint: All values in the output matrix should be between 0 and 1."
   ]
  },
  {
   "cell_type": "code",
   "execution_count": null,
   "metadata": {
    "collapsed": true,
    "deletable": false,
    "nbgrader": {
     "checksum": "ae316d43f2adbec53ed75c55034cc859",
     "grade": false,
     "grade_id": "problem_4_code",
     "locked": false,
     "schema_version": 1,
     "solution": true
    }
   },
   "outputs": [],
   "source": [
    "your_function <- function(mat){\n",
    "    # YOUR CODE HERE\n",
    "    apply(mat,2, function(each_column){(each_column - min(each_column))/(max(each_column) - min(each_column))})\n",
    "}"
   ]
  },
  {
   "cell_type": "markdown",
   "metadata": {},
   "source": [
    "Now check that your function works correctly:"
   ]
  },
  {
   "cell_type": "code",
   "execution_count": null,
   "metadata": {
    "collapsed": true,
    "deletable": false,
    "editable": false,
    "nbgrader": {
     "checksum": "7c88769abb60944549c9286bed997a64",
     "grade": true,
     "grade_id": "problem_4_test",
     "locked": true,
     "points": 1,
     "schema_version": 1,
     "solution": false
    }
   },
   "outputs": [],
   "source": [
    "set.seed(831)\n",
    "correct <- structure(c(0.538385934058501, 0, 1, 1, 0.829499385618851, 0, \n",
    "1, 0, 0.188125342183014), .Dim = c(3L, 3L))\n",
    "stopifnot(round(your_function(matrix(rnorm(9),3,3)),digits=6) == round(correct,digits=6))"
   ]
  },
  {
   "cell_type": "markdown",
   "metadata": {},
   "source": [
    "---\n",
    "\n",
    "# Problem 5\n",
    "\n",
    "Use the `integrate` function to evaluate the following integrals:\n",
    "1. $\\int_0^1 sin(x) dx$\n",
    "2. $\\int_5^8 1 + x^3 - 4x^6 dx$\n",
    "3. $\\int_{-\\pi/4}^{\\pi/3} \\frac{sin(x)}{\\cos(x)}dx$  Note: You can use `pi` in R to get the value of $\\pi$. \n",
    "\n",
    "Name your answers `one`, `two`, and `three`, respectively. Make sure your answers have the numeric class."
   ]
  },
  {
   "cell_type": "code",
   "execution_count": null,
   "metadata": {
    "collapsed": true,
    "deletable": false,
    "nbgrader": {
     "checksum": "6018ac14e5b42c459281c9df8d9eb0e2",
     "grade": false,
     "grade_id": "problem_5_code",
     "locked": false,
     "schema_version": 1,
     "solution": true
    }
   },
   "outputs": [],
   "source": [
    "f1 = function(x){\n",
    "    return(sin(x))\n",
    "}\n",
    "f2 = function(x){\n",
    "    return(1 + x^3 - 4*x^6)\n",
    "}\n",
    "f3 = function(x){\n",
    "    return(sin(x)/cos(x))\n",
    "}\n",
    "one = integrate(f1,lower = 0,upper = 1)$value\n",
    "two = integrate(f2,lower = 5,upper = 8)$value\n",
    "three = integrate(f3,lower = -pi/4, upper = pi/4)$value"
   ]
  },
  {
   "cell_type": "code",
   "execution_count": null,
   "metadata": {
    "collapsed": true,
    "deletable": false,
    "editable": false,
    "nbgrader": {
     "checksum": "8a2af8bb8380865c4b5a61a2f3d69bd3",
     "grade": true,
     "grade_id": "problem_5_i",
     "locked": true,
     "points": 1,
     "schema_version": 1,
     "solution": false
    }
   },
   "outputs": [],
   "source": [
    "# Checking answer one (the answer itself will not be visible to you)\n",
    "if(class(one)!= \"numeric\") stop(\"Make sure your answer is numeric!\")"
   ]
  },
  {
   "cell_type": "code",
   "execution_count": null,
   "metadata": {
    "collapsed": true,
    "deletable": false,
    "editable": false,
    "nbgrader": {
     "checksum": "5160e414bac581817bca85a3aa4fd4bd",
     "grade": true,
     "grade_id": "problem_5_ii",
     "locked": true,
     "points": 1,
     "schema_version": 1,
     "solution": false
    }
   },
   "outputs": [],
   "source": [
    "# Checking answer two (the answer itself will not be visible to you)\n",
    "if(class(two)!= \"numeric\") stop(\"Make sure your answer is numeric!\")"
   ]
  },
  {
   "cell_type": "code",
   "execution_count": null,
   "metadata": {
    "collapsed": true,
    "deletable": false,
    "editable": false,
    "nbgrader": {
     "checksum": "290e98ef147ba2a5db08c18e114bba04",
     "grade": true,
     "grade_id": "problem_5_iii",
     "locked": true,
     "points": 1,
     "schema_version": 1,
     "solution": false
    }
   },
   "outputs": [],
   "source": [
    "# Checking answer three (the answer itself will not be visible to you)\n",
    "if(class(three)!= \"numeric\") stop(\"Make sure your answer is numeric!\")"
   ]
  },
  {
   "cell_type": "markdown",
   "metadata": {},
   "source": [
    "---\n",
    "\n",
    "# Problem 6\n",
    "\n",
    "Use R to find the roots of the following functions:\n",
    "1. $f(x) = 6 - x + 5x^4$\n",
    "2. $f(x) = \\sin(x) - \\cos(x)$  Note: Since this is a periodic function, just find the roots between 0 and $\\pi$.\n",
    "\n",
    "Name your answers `one` and `two` respectively, and make sure they have the classes `numeric` or `complex`."
   ]
  },
  {
   "cell_type": "code",
   "execution_count": null,
   "metadata": {
    "collapsed": true,
    "deletable": false,
    "nbgrader": {
     "checksum": "14348467cffb6f1aa096e481d9f288f4",
     "grade": false,
     "grade_id": "problem_6_code",
     "locked": false,
     "schema_version": 1,
     "solution": true
    }
   },
   "outputs": [],
   "source": [
    "coefs = c(6,-1,0,0,-5)\n",
    "one = polyroot(coefs)\n",
    "\n",
    "f = function(x) sin(x) - cos(x)\n",
    "two = uniroot(f,c(0,pi))$root\n"
   ]
  },
  {
   "cell_type": "code",
   "execution_count": null,
   "metadata": {
    "collapsed": true,
    "deletable": false,
    "editable": false,
    "nbgrader": {
     "checksum": "4a6d50aea2a206eb7a1e798abbd2f32f",
     "grade": true,
     "grade_id": "problem_6_test_1",
     "locked": true,
     "points": 1,
     "schema_version": 1,
     "solution": false
    }
   },
   "outputs": [],
   "source": [
    "# Checking answer one (the answer itself will not be visible to you)"
   ]
  },
  {
   "cell_type": "code",
   "execution_count": null,
   "metadata": {
    "collapsed": true,
    "deletable": false,
    "editable": false,
    "nbgrader": {
     "checksum": "7fdf1560dfb930c1b9295c289140c2a0",
     "grade": true,
     "grade_id": "problem_6_test_2",
     "locked": true,
     "points": 1,
     "schema_version": 1,
     "solution": false
    }
   },
   "outputs": [],
   "source": [
    "# Checking answer two (the answer itself will not be visible to you)"
   ]
  },
  {
   "cell_type": "markdown",
   "metadata": {},
   "source": [
    "---\n",
    "\n",
    "# Problem 7\n",
    "\n",
    "Use R to find:\n",
    "1. The minimum of the function $f(x) = \\frac{x}{\\log{x}}$ on the domain $(1,\\infty)$.\n",
    "2. The minimum of the function $f(x,y) = x^2 + (x - \\cos(x - \\frac{\\pi}{10}))(y - \\cos(y + \\frac{\\pi}{12})) + y^2$\n",
    "\n",
    "Note that for both of these, the minimum value of the function is being asked for, not the values of the inputs to achieve the minimum. Once again, name your answers `one` and `two`, respectively. For the second function, use the quasi-Newton method."
   ]
  },
  {
   "cell_type": "code",
   "execution_count": null,
   "metadata": {
    "collapsed": true,
    "deletable": false,
    "nbgrader": {
     "checksum": "83f264b69d9a8fcddbaf8e88d53f9036",
     "grade": false,
     "grade_id": "problem_7_code",
     "locked": false,
     "schema_version": 1,
     "solution": true
    }
   },
   "outputs": [],
   "source": [
    "f1 = function(x) x/log(x)\n",
    "f2 = function(x,y) x^2 + (x - cos(x - pi/10))(y - cos(y + pi/12)) + y^2\n",
    "\n",
    "one = f1(optimise(f1,lower = 1,upper = 10000000)$minimum)\n"
   ]
  },
  {
   "cell_type": "code",
   "execution_count": null,
   "metadata": {
    "collapsed": true,
    "deletable": false,
    "editable": false,
    "nbgrader": {
     "checksum": "fcf25bd2c21d4a142f0e14888c5f4860",
     "grade": true,
     "grade_id": "problem_7_test_i",
     "locked": true,
     "points": 1,
     "schema_version": 1,
     "solution": false
    }
   },
   "outputs": [],
   "source": []
  },
  {
   "cell_type": "code",
   "execution_count": null,
   "metadata": {
    "collapsed": true,
    "deletable": false,
    "editable": false,
    "nbgrader": {
     "checksum": "833f4ceab92c8adad5a15ed4de423ad3",
     "grade": true,
     "grade_id": "problem_7_test_ii",
     "locked": true,
     "points": 1,
     "schema_version": 1,
     "solution": false
    }
   },
   "outputs": [],
   "source": []
  }
 ],
 "metadata": {
  "anaconda-cloud": {},
  "kernelspec": {
   "display_name": "R",
   "language": "R",
   "name": "ir"
  },
  "language_info": {
   "codemirror_mode": "r",
   "file_extension": ".r",
   "mimetype": "text/x-r-source",
   "name": "R",
   "pygments_lexer": "r",
   "version": "3.3.2"
  }
 },
 "nbformat": 4,
 "nbformat_minor": 2
}
