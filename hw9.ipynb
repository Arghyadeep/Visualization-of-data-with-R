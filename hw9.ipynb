{
 "cells": [
  {
   "cell_type": "markdown",
   "metadata": {},
   "source": [
    "Before you turn this problem set in, make sure everything runs as expected. First, **restart the kernel** (in the menubar, select Kernel$\\rightarrow$Restart) and then **run all cells** (in the menubar, select Cell$\\rightarrow$Run All). Note that in code sections, you must replace `stop(\"Not Implemented\")` with your code. Otherwise, you will have points automatically deducted in the grading process.\n",
    "\n",
    "**Please do not rename this file.**\n",
    "\n",
    "Make sure you fill in any place that says `YOUR CODE HERE` or \"YOUR ANSWER/EXPLANATION HERE\". In addition, please do not include your name on this assignment to ensure anonymity for the peer reviews."
   ]
  },
  {
   "cell_type": "markdown",
   "metadata": {},
   "source": [
    "---"
   ]
  },
  {
   "cell_type": "markdown",
   "metadata": {
    "deletable": false,
    "editable": false,
    "nbgrader": {
     "checksum": "ca0884131260d8cd36dbc276775549b3",
     "grade": false,
     "grade_id": "cell-202b4a6162ed43ad",
     "locked": true,
     "schema_version": 1,
     "solution": false
    }
   },
   "source": [
    "# Problem 1\n",
    "\n",
    "Take a look at the `SleepStudy` data within the `Lock5Data` package. The goal in this exercise will be to create a model to predict student GPAs. As an exploratory data analysis tool create a pairwise scatterplot (page 23 of lecture 9) to see whether there are any patterns visible between the following variables: \n",
    "\n",
    "- GPA \n",
    "- Gender \n",
    "- ClassYear \n",
    "- CognitionZscore \n",
    "- DepressionScore \n",
    "- AnxietyScore \n",
    "- StressScore \n",
    "- Drinks \n",
    "- WeekdaySleep \n",
    "- WeekendRise"
   ]
  },
  {
   "cell_type": "code",
   "execution_count": null,
   "metadata": {
    "collapsed": true,
    "deletable": false,
    "nbgrader": {
     "checksum": "3752c518870fc2101b1dd63db13d95e7",
     "grade": false,
     "grade_id": "cell-4ab2bc221feae623",
     "locked": false,
     "schema_version": 1,
     "solution": true
    }
   },
   "outputs": [],
   "source": [
    "library(Lock5Data)\n",
    "data(\"SleepStudy\")\n",
    "\n",
    "# YOUR CODE HERE\n",
    "x = SleepStudy\n",
    "pairs(~GPA + Gender + ClassYear + CognitionZscore + AnxietyScore + StressScore + Drinks + WeekdaySleep + WeekendRise, data = x)"
   ]
  },
  {
   "cell_type": "markdown",
   "metadata": {
    "deletable": false,
    "editable": false,
    "nbgrader": {
     "checksum": "92ed4c12ba680b015a5771524c80adbc",
     "grade": false,
     "grade_id": "cell-cbe972a9216eb912",
     "locked": true,
     "schema_version": 1,
     "solution": false
    }
   },
   "source": [
    "Next, create a plot to compare the effects of treating the `ClassYear` variable as a continuous or a categorical predictor of `GPA`. Hint: You will need to complete at least one very basic linear model to create the lines necessary in the plot. Be sure to include a title, clear labels, and context information!"
   ]
  },
  {
   "cell_type": "code",
   "execution_count": null,
   "metadata": {
    "collapsed": true,
    "deletable": false,
    "nbgrader": {
     "checksum": "56b9efe703a2286ad139d96e8fa112ed",
     "grade": true,
     "grade_id": "cell-e9ab01fc25f24f72",
     "locked": false,
     "points": 4,
     "schema_version": 1,
     "solution": true
    }
   },
   "outputs": [],
   "source": [
    "# YOUR CODE HERE\n",
    "GPA = x$GPA\n",
    "ClassYear = x$ClassYear\n",
    "model1 = lm(GPA~ClassYear,data=x)\n",
    "model2 = lm(GPA~factor(ClassYear),data = x)\n",
    "plot(ClassYear,GPA,pch = 20, main = \"Effects of treating the ClassYear variable as a continuous or a categorical predictor of GPA \")\n",
    "abline(model1$coefficients, col = \"red\")\n",
    "segments(1,model2$coefficients[1],2,model2$coefficients[1] + model2$coefficients[2])\n",
    "segments(2,model2$coefficients[1] + model2$coefficients[2],3,model2$coefficients[1] + model2$coefficients[3])\n",
    "segments(3,model2$coefficients[1] + model2$coefficients[3],4,model2$coefficients[1] + model2$coefficients[4])\n",
    "legend(2,4, c(\"Categorical\",\"Continuous\"),col = c(\"black\",\"red\"), pch = 20, bty = \"n\")\n"
   ]
  },
  {
   "cell_type": "markdown",
   "metadata": {
    "deletable": false,
    "editable": false,
    "nbgrader": {
     "checksum": "06d277d3d1e492bac27f7bc25322fbf7",
     "grade": false,
     "grade_id": "cell-44f1a0d91d08b99a",
     "locked": true,
     "schema_version": 1,
     "solution": false
    }
   },
   "source": [
    "Following the steps used in the lecture, fit a model to predict a student's GPA. Include any intermediate steps in R that you take, explained with short comments in your code. Exploring interaction terms is encouraged, but not required."
   ]
  },
  {
   "cell_type": "code",
   "execution_count": null,
   "metadata": {
    "collapsed": true,
    "deletable": false,
    "nbgrader": {
     "checksum": "5a31cb444379b843fa0df8f8f69f1a5e",
     "grade": true,
     "grade_id": "cell-c9369a6feca973b8",
     "locked": false,
     "points": 4,
     "schema_version": 1,
     "solution": true
    }
   },
   "outputs": [],
   "source": [
    "# YOUR CODE HERE\n",
    "#creating dummy variables from categorical variables\n",
    "\n",
    "for(i in 1:length(x$LarkOwl)){\n",
    "    if (x$LarkOwl[i] == \"Lark\"){\n",
    "        x$LarkOwl_Lark[i] = 1\n",
    "    }\n",
    "    else{x$LarkOwl_Lark[i] = 0}\n",
    "    \n",
    "    if (x$LarkOwl[i] == \"Neither\"){\n",
    "        x$LarkOwl_Neither[i] = 1\n",
    "    }\n",
    "    else{x$LarkOwl_Neither[i] = 0}\n",
    "    \n",
    "    if (x$LarkOwl[i] == \"Owl\"){\n",
    "        x$LarkOwl_Owl[i] = 1\n",
    "    }\n",
    "    else{x$LarkOwl_Owl[i] = 0}\n",
    "    \n",
    "    if (x$DepressionStatus[i] == \"normal\"){\n",
    "        x$DepressionStatus_Normal[i] = 1\n",
    "    }\n",
    "    else{x$DepressionStatus_Normal[i] = 0}\n",
    "    \n",
    "    if (x$DepressionStatus[i] == \"severe\"){\n",
    "        x$DepressionStatus_Severe[i] = 1\n",
    "    }\n",
    "    else{x$DepressionStatus_Severe[i] = 0}\n",
    "    \n",
    "    if (x$DepressionStatus[i] == \"moderate\"){\n",
    "        x$DepressionStatus_Moderate[i] = 1\n",
    "    }\n",
    "    else{x$DepressionStatus_Moderate[i] = 0}\n",
    "    \n",
    "    if (x$AnxietyStatus[i] == \"normal\"){\n",
    "        x$AnxietyStatus_Normal[i] = 1\n",
    "    }\n",
    "    else{x$AnxietyStatus_Normal[i] = 0}\n",
    "    \n",
    "    if (x$AnxietyStatus[i] == \"severe\"){\n",
    "        x$AnxietyStatus_Severe[i] = 1\n",
    "    }\n",
    "    else{x$AnxietyStatus_Severe[i] = 0}\n",
    "    \n",
    "    if (x$AnxietyStatus[i] == \"moderate\"){\n",
    "        x$AnxietyStatus_Moderate[i] = 1\n",
    "    }\n",
    "    else{x$AnxietyStatus_Moderate[i] = 0}\n",
    "    \n",
    "    \n",
    "    if (x$Stress[i] == \"high\"){\n",
    "        x$Stress_High[i] = 1\n",
    "    }\n",
    "    else{x$Stress_High[i] = 0}\n",
    "    \n",
    "    if (x$Stress[i] == \"normal\"){\n",
    "        x$Stress_Normal[i] = 1\n",
    "    }\n",
    "    else{x$Stress_Normal[i] = 0}\n",
    "\n",
    "    if (x$AlcoholUse[i] == \"Abstain\"){\n",
    "        x$AlcoholUse_Abstain[i] = 1\n",
    "    }\n",
    "    else{x$AlcoholUse_Abstain[i] = 0}\n",
    "    \n",
    "    if (x$AlcoholUse[i] == \"Light\"){\n",
    "        x$AlcoholUse_Light[i] = 1\n",
    "    }\n",
    "    else{x$AlcoholUse_Light[i] = 0}\n",
    "    \n",
    "    if (x$AlcoholUse[i] == \"Moderate\"){\n",
    "        x$AlcoholUse_Moderate[i] = 1\n",
    "    }\n",
    "    else{x$AlcoholUse_Moderate[i] = 0}\n",
    "    \n",
    "    if (x$AlcoholUse[i] == \"High\"){\n",
    "        x$AlcoholUse_High[i] = 1\n",
    "    }\n",
    "    else{x$AlcoholUse_High[i] = 0} \n",
    "}\n",
    "\n",
    "#adding all variables for backward selection using p-values\n",
    "first_fit = lm(GPA~Gender + NumEarlyClass + EarlyClass + ClassesMissed + CognitionZscore + PoorSleepQuality + DepressionScore + AnxietyScore + StressScore + DASScore + Happiness + Drinks + AverageSleep + LarkOwl_Lark + LarkOwl_Neither + LarkOwl_Owl + DepressionStatus_Normal + DepressionStatus_Severe + DepressionStatus_Moderate + AnxietyStatus_Normal + AnxietyStatus_Severe + AnxietyStatus_Moderate + Stress_High + Stress_Normal + AlcoholUse_Abstain + AlcoholUse_Light + AlcoholUse_Moderate + AlcoholUse_High, data = x)\n",
    "summary(first_fit)\n",
    "\n",
    "#getting rid of parameters with extremely high p values we have:\n",
    "second_fit = lm(GPA~CognitionZscore + StressScore + AnxietyScore + Drinks + AverageSleep  + ClassesMissed , data = x)\n",
    "summary(second_fit)\n",
    "\n",
    "#finally getting rid of one more variable from summary with high p-value and producing final fit\n",
    "final_fit = lm(GPA~CognitionZscore + StressScore + AnxietyScore + Drinks +  ClassesMissed , data = x)\n",
    "summary(final_fit)"
   ]
  },
  {
   "cell_type": "markdown",
   "metadata": {
    "deletable": false,
    "editable": false,
    "nbgrader": {
     "checksum": "3b03c21ba5ccd6f61789b8db1f7ed7bc",
     "grade": false,
     "grade_id": "cell-66588cae73c81356",
     "locked": true,
     "schema_version": 1,
     "solution": false
    }
   },
   "source": [
    "Make a plot of the four residual analysis plots to make sure the regression does not violate any assumptions in a major way."
   ]
  },
  {
   "cell_type": "code",
   "execution_count": null,
   "metadata": {
    "collapsed": true,
    "deletable": false,
    "nbgrader": {
     "checksum": "5417e4b109190e4dfff57fca9c153341",
     "grade": true,
     "grade_id": "cell-e8e73ee3774427f4",
     "locked": false,
     "points": 2,
     "schema_version": 1,
     "solution": true
    }
   },
   "outputs": [],
   "source": [
    "# YOUR CODE HERE\n",
    "par(mfrow=c(2,2))\n",
    "plot(final_fit)"
   ]
  },
  {
   "cell_type": "markdown",
   "metadata": {
    "deletable": false,
    "editable": false,
    "nbgrader": {
     "checksum": "ea17a1558105fe2e15855c38aaa1a72a",
     "grade": false,
     "grade_id": "cell-f19a1f0e70002a3f",
     "locked": true,
     "schema_version": 1,
     "solution": false
    }
   },
   "source": [
    "Comment briefly on the residual analysis."
   ]
  },
  {
   "cell_type": "raw",
   "metadata": {
    "deletable": false,
    "nbgrader": {
     "checksum": "c3dfd91393d633f79b23db3794e89d7d",
     "grade": true,
     "grade_id": "cell-879b32518c4fb4d7",
     "locked": false,
     "points": 2,
     "schema_version": 1,
     "solution": true
    }
   },
   "source": [
    "From the plots it could be inferred that :\n",
    "\n",
    "1. The residual plot doesn't show much of a curvature and almost linear which tells us that the linear assumption is almost correct since there isn't a perfect megaphone shape around the points.\n",
    "\n",
    "2. The data seems to be normally distributed from the normal Q-Q plot.\n",
    " "
   ]
  },
  {
   "cell_type": "markdown",
   "metadata": {
    "deletable": false,
    "editable": false,
    "nbgrader": {
     "checksum": "3bf632d97422ca1f4a7b9c6554cb675b",
     "grade": false,
     "grade_id": "cell-afea637daab0c60e",
     "locked": true,
     "schema_version": 1,
     "solution": false
    }
   },
   "source": [
    "---\n",
    "\n",
    "# Problem 2\n",
    "\n",
    "The `NutritionStudy` data set within the `Lock5Data` package contains information on the health and nutrition of 315 individuals. The purpose in this problem is to use this data to model `Quetelet`, a variable defined as follows:\n",
    "\n",
    "$$\\text{Quetelet} = \\frac{\\text{Weight}}{\\text{Height}^2}$$\n",
    "\n",
    "The 19th century Statistician Adolphe Quetelet developed the idea that one's height should be used to determine an ideal weight. This is now recognized as the body mass index (BMI). First, consider the variable `PriorSmoke`, which takes one of three values:\n",
    "\n",
    "Value | Meaning\n",
    "----- | --------------\n",
    "1     | Never smoked\n",
    "2     | Used to smoke\n",
    "3     | Still smoke\n",
    "\n",
    "Since this is an ordered scale, this could be treated as a continuous variable, but could also be treated as a categorical variable (factor). Create a plot to show the fitted line for using the `PriorSmoke` variable to model `Quetelet` as both a continuous variable and a categorical variable. Don't forget to include a title, legend, axis labels, ad context information!"
   ]
  },
  {
   "cell_type": "code",
   "execution_count": null,
   "metadata": {
    "collapsed": true,
    "deletable": false,
    "nbgrader": {
     "checksum": "b2d29d0e0bd7fb93c49386f3391e68a3",
     "grade": true,
     "grade_id": "cell-48e8762b40ed2166",
     "locked": false,
     "points": 4,
     "schema_version": 1,
     "solution": true
    }
   },
   "outputs": [],
   "source": [
    "library(Lock5Data)\n",
    "data(\"NutritionStudy\")\n",
    "\n",
    "# YOUR CODE HERE\n",
    "x = NutritionStudy\n",
    "Quetelet = x$Quetelet\n",
    "PriorSmoke = x$PriorSmoke\n",
    "model1 = lm(Quetelet~PriorSmoke,data=x)\n",
    "model2 = lm(Quetelet~factor(PriorSmoke),data = x)\n",
    "par(mfrow = c(1,1))\n",
    "plot(PriorSmoke,Quetelet,pch = 20, main = \"Using PriorSmoke variable to model Quetelet, as both a continuous variable and a categorical variable\")\n",
    "abline(model1$coefficients, col = \"red\")\n",
    "segments(1,model2$coefficients[1],2,model2$coefficients[1] + model2$coefficients[2])\n",
    "segments(2,model2$coefficients[1] + model2$coefficients[2],3,model2$coefficients[1] + model2$coefficients[3])\n",
    "legend(1.5,50, c(\"Categorical\",\"Continuous\"),col = c(\"black\",\"red\"), pch = 20, bty = \"n\")"
   ]
  },
  {
   "cell_type": "markdown",
   "metadata": {
    "deletable": false,
    "editable": false,
    "nbgrader": {
     "checksum": "e9d237299b8b836c74a1f0a12285c9b2",
     "grade": false,
     "grade_id": "cell-743817e727c9fd10",
     "locked": true,
     "schema_version": 1,
     "solution": false
    }
   },
   "source": [
    "Next, fit a model for `Quetelet` with the following predictors:\n",
    "\n",
    "- `Cholesterol`\n",
    "- `PriorSmoke` (either as a continuous or categorical variable, based on your answer above)\n",
    "- `BetaPlasma`\n",
    "- `Gender`\n",
    "- An interaction between `Gender` and `PriorSmoke`\n",
    "\n",
    "Name the linear model object `first_lm` and include a summary of the model output."
   ]
  },
  {
   "cell_type": "code",
   "execution_count": null,
   "metadata": {
    "collapsed": true,
    "deletable": false,
    "nbgrader": {
     "checksum": "b20fa7ca521d032b12d7d77867b06e93",
     "grade": true,
     "grade_id": "cell-589202c8ab0e5b84",
     "locked": false,
     "points": 1,
     "schema_version": 1,
     "solution": true
    }
   },
   "outputs": [],
   "source": [
    "# YOUR CODE HERE\n",
    "first_lm = lm(Quetelet~Cholesterol+PriorSmoke+BetaPlasma+Gender+Gender:PriorSmoke, data = x)\n",
    "summary(first_lm)"
   ]
  },
  {
   "cell_type": "markdown",
   "metadata": {
    "deletable": false,
    "editable": false,
    "nbgrader": {
     "checksum": "57b78be8bb677a36c6e44025953947a8",
     "grade": false,
     "grade_id": "cell-6858aa463db2516e",
     "locked": true,
     "schema_version": 1,
     "solution": false
    }
   },
   "source": [
    "Use backward selection to produce a model with predictors that are all significant at an $\\alpha$-level of 0.05. Name the final model `final_lm` and include a summary of the model object."
   ]
  },
  {
   "cell_type": "code",
   "execution_count": null,
   "metadata": {
    "collapsed": true,
    "deletable": false,
    "nbgrader": {
     "checksum": "1000f517d51fa87c0a7c98eaa2ef3c7a",
     "grade": true,
     "grade_id": "cell-021d2f13de74c570",
     "locked": false,
     "points": 2,
     "schema_version": 1,
     "solution": true
    }
   },
   "outputs": [],
   "source": [
    "# YOUR CODE HERE\n",
    "\n",
    "#since the interaction term from the summary has highest p-value we get rid of that\n",
    "second_lm = lm(Quetelet~Cholesterol+PriorSmoke+BetaPlasma+Gender,data=x)\n",
    "summary(second_lm)\n",
    "\n",
    "#the second summary states that the term gender has highest p-value and we can get rid of it\n",
    "third_lm = lm(Quetelet~Cholesterol+PriorSmoke+BetaPlasma,data=x)\n",
    "summary(third_lm)\n",
    "\n",
    "#finally getting rid of variable \"Cholesterol\" which has a p value of 0.7 would provide us the final model\n",
    "final_lm = lm(Quetelet~PriorSmoke+BetaPlasma,data=x)\n",
    "summary(final_lm)"
   ]
  },
  {
   "cell_type": "markdown",
   "metadata": {
    "deletable": false,
    "editable": false,
    "nbgrader": {
     "checksum": "e1b5ad8b693ca7cfc2db2d6302f013f9",
     "grade": false,
     "grade_id": "cell-c410577bd50e29ef",
     "locked": true,
     "schema_version": 1,
     "solution": false
    }
   },
   "source": [
    "---\n",
    "\n",
    "# Problem 3\n",
    "\n",
    "Use the American Community Survey (`ACS`) dataset in the `Lock5Data` package to perform an analysis of variance (ANOVA) to compare mean incomes in `Race` and `Sex` groups. Should the model include an interaction term? Begin by making an interaction plot to determine if the effect of being a different race affects the sexes differently. Don't forget to include a title, axis labels, legend, and context information. Some of the preliminary data management has been done for you."
   ]
  },
  {
   "cell_type": "code",
   "execution_count": null,
   "metadata": {
    "collapsed": true,
    "deletable": false,
    "nbgrader": {
     "checksum": "f8567b017d7bfaee2314de9cf0f62b8a",
     "grade": true,
     "grade_id": "cell-1fee3556a64feb17",
     "locked": false,
     "points": 2,
     "schema_version": 1,
     "solution": true
    }
   },
   "outputs": [],
   "source": [
    "library(Lock5Data)\n",
    "data(\"ACS\")\n",
    "ACS$Sex <- factor(ACS$Sex, labels = c(\"Female\",\"Male\"))\n",
    "sub_acs <- subset(ACS, select = c(\"Income\",\"Sex\",\"Race\"))\n",
    "sub_acs <- na.omit(sub_acs)\n",
    "\n",
    "# YOUR CODE HERE\n",
    "attach(sub_acs)\n",
    "interaction.plot(Race,Sex,Income,fun = \"mean\",main = \"Comparision of mean incomes in Race and Sex groups\")"
   ]
  },
  {
   "cell_type": "markdown",
   "metadata": {
    "deletable": false,
    "editable": false,
    "nbgrader": {
     "checksum": "19f4676f9688a46c4f25695136eebd25",
     "grade": false,
     "grade_id": "cell-659eeb4c9dba4412",
     "locked": true,
     "schema_version": 1,
     "solution": false
    }
   },
   "source": [
    "Next, perform an ANOVA for `Income` with the `Sex` and `Race` variables. Include the interaction between the two variables in the model as well. If necessary, use backward selection (don't add any more variables) to produce a final model. Name the final model `final_lm` and include a summary of the model object. Use an $\\alpha$-level of 0.05 to determine whether variables are statistically significant."
   ]
  },
  {
   "cell_type": "code",
   "execution_count": null,
   "metadata": {
    "collapsed": true,
    "deletable": false,
    "nbgrader": {
     "checksum": "f4b085159c56aa088e4ac93abfa89397",
     "grade": true,
     "grade_id": "cell-bdba705ed08580a3",
     "locked": false,
     "points": 2,
     "schema_version": 1,
     "solution": true
    }
   },
   "outputs": [],
   "source": [
    "# YOUR CODE HERE\n",
    "first_lm = lm(Income~factor(Race)+factor(Sex)+factor(Race):factor(Sex),data = sub_acs)\n",
    "anova(first_lm)\n",
    "summary(first_lm)\n",
    "\n",
    "#removing interaction term for highest p-values\n",
    "second_lm = lm(Income~factor(Race)+factor(Sex),data = sub_acs)\n",
    "summary(second_lm)\n",
    "\n",
    "#removing Race variable for high p values we have:\n",
    "final_lm= lm(Income~factor(Sex),data = sub_acs)\n",
    "summary(final_lm)"
   ]
  },
  {
   "cell_type": "markdown",
   "metadata": {
    "deletable": false,
    "editable": false,
    "nbgrader": {
     "checksum": "15fc0c36fadca42405ec3e3ad9af54b3",
     "grade": false,
     "grade_id": "cell-c8aa059afcdb1403",
     "locked": true,
     "schema_version": 1,
     "solution": false
    }
   },
   "source": [
    "Regardless of what your final model was above, conduct pairwise t-tests to see if any pairs of races have significantly different mean incomes. Use the Bonferroni correction on the p-values to adjust for multiple comparisons."
   ]
  },
  {
   "cell_type": "code",
   "execution_count": null,
   "metadata": {
    "collapsed": true,
    "deletable": false,
    "nbgrader": {
     "checksum": "f671f4354d31a3abbdef446096b50924",
     "grade": true,
     "grade_id": "cell-5b96f6edb263bfe2",
     "locked": false,
     "points": 1,
     "schema_version": 1,
     "solution": true
    }
   },
   "outputs": [],
   "source": [
    "# YOUR CODE HERE\n",
    "pairwise.t.test(Income[Race==\"white\"], Sex[Race==\"white\"],p.adjust.method=\"bonferroni\")\n",
    "pairwise.t.test(Income[Race==\"black\"], Sex[Race==\"black\"],p.adjust.method=\"bonferroni\")\n",
    "pairwise.t.test(Income[Race==\"asian\"], Sex[Race==\"asian\"],p.adjust.method=\"bonferroni\")\n",
    "pairwise.t.test(Income[Race==\"other\"], Sex[Race==\"other\"],p.adjust.method=\"bonferroni\")"
   ]
  },
  {
   "cell_type": "markdown",
   "metadata": {
    "deletable": false,
    "editable": false,
    "nbgrader": {
     "checksum": "89f41018b3181ea459e901acfc9cd37f",
     "grade": false,
     "grade_id": "cell-7715b265b1259e37",
     "locked": true,
     "schema_version": 1,
     "solution": false
    }
   },
   "source": [
    "Are any significantly different from each other? How does this match up with your ANOVA outcome? Answer breifly in only a sentence or two."
   ]
  },
  {
   "cell_type": "markdown",
   "metadata": {
    "deletable": false,
    "nbgrader": {
     "checksum": "a2de1adcd831d2e6fd51f8f4a1f58a98",
     "grade": true,
     "grade_id": "cell-85ba6cb4503d5b60",
     "locked": false,
     "points": 1,
     "schema_version": 1,
     "solution": true
    }
   },
   "source": [
    "YOUR ANSWER/EXPLANATION HERE"
   ]
  }
 ],
 "metadata": {
  "kernelspec": {
   "display_name": "R",
   "language": "R",
   "name": "ir"
  },
  "language_info": {
   "codemirror_mode": "r",
   "file_extension": ".r",
   "mimetype": "text/x-r-source",
   "name": "R",
   "pygments_lexer": "r",
   "version": "3.4.2"
  }
 },
 "nbformat": 4,
 "nbformat_minor": 2
}
