{
 "cells": [
  {
   "cell_type": "markdown",
   "metadata": {},
   "source": [
    "Before you turn this problem set in, make sure everything runs as expected. First, **restart the kernel** (in the menubar, select Kernel$\\rightarrow$Restart) and then **run all cells** (in the menubar, select Cell$\\rightarrow$Run All). Note that in code sections, you must replace `stop(\"Not Implemented\")` with your code. Otherwise, you will have points automatically deducted in the grading process.\n",
    "\n",
    "**Please do not rename this file.**\n",
    "\n",
    "Make sure you fill in any place that says `YOUR CODE HERE` or \"YOUR ANSWER/EXPLANATION HERE\". In addition, please do not include your name on this assignment to ensure anonymity for the peer reviews."
   ]
  },
  {
   "cell_type": "markdown",
   "metadata": {},
   "source": [
    "---"
   ]
  },
  {
   "cell_type": "markdown",
   "metadata": {
    "deletable": false,
    "editable": false,
    "nbgrader": {
     "checksum": "ccd50ee542bb121cc3f224b9e1ac9587",
     "grade": false,
     "grade_id": "cell-2cc2955a1de14a42",
     "locked": true,
     "schema_version": 1,
     "solution": false
    }
   },
   "source": [
    "# Problem 1\n",
    "\n",
    "This homework will require the use of a few datasets in a package written by the TA, Dan. Before beginning, please be sure to download and install the package. Example code for doing this is below:"
   ]
  },
  {
   "cell_type": "code",
   "execution_count": null,
   "metadata": {
    "collapsed": true
   },
   "outputs": [],
   "source": [
    "# Un-comment the line below to install the package by deleting the # symbol\n",
    "install.packages(\"C:/Users/Arghyadeep/Downloads/AMSdata_0.1.0.tar.gz\",repos = NULL, type = \"source\") # Change the first character string to the path of the source package \n",
    "library(AMSdata)"
   ]
  },
  {
   "cell_type": "markdown",
   "metadata": {
    "deletable": false,
    "editable": false,
    "nbgrader": {
     "checksum": "1c494848d1052b021108fc8af0707f2f",
     "grade": false,
     "grade_id": "cell-42257716a5c2442d",
     "locked": true,
     "schema_version": 1,
     "solution": false
    }
   },
   "source": [
    "The `election_2016` dataset contains county-level information about the porportion of votes received in the presidential primaries for each candidate in 2016. Begin by subsetting the data to just the information concerning then-candidate Donald Trump. Name this subsetted data set `trump_2016`."
   ]
  },
  {
   "cell_type": "code",
   "execution_count": null,
   "metadata": {
    "collapsed": true,
    "deletable": false,
    "nbgrader": {
     "checksum": "cfac4542410b0038304361f08f398754",
     "grade": false,
     "grade_id": "cell-f47d4c5a63f96f94",
     "locked": false,
     "schema_version": 1,
     "solution": true
    }
   },
   "outputs": [],
   "source": [
    "data(\"election_2016\")\n",
    "# YOUR CODE HERE\n",
    "x = election_2016\n",
    "trump_2016 = x[which(x$candidate==\"Donald Trump\"),]\n",
    "trump_2016$state = NULL\n",
    "trump_2016$state_abbreviation = NULL\n",
    "trump_2016$county = NULL\n",
    "trump_2016$party = NULL\n",
    "trump_2016$candidate = NULL"
   ]
  },
  {
   "cell_type": "markdown",
   "metadata": {
    "deletable": false,
    "editable": false,
    "nbgrader": {
     "checksum": "71b6224f8315cad8cccdfacc0dad53dd",
     "grade": false,
     "grade_id": "cell-5cca8ea680a09caa",
     "locked": true,
     "schema_version": 1,
     "solution": false
    }
   },
   "source": [
    "Now quickly check to make sure the subset was done correctly before moving on."
   ]
  },
  {
   "cell_type": "code",
   "execution_count": null,
   "metadata": {
    "collapsed": true,
    "deletable": false,
    "editable": false,
    "nbgrader": {
     "checksum": "8e784cd3395164c2d284b41f90ee3a39",
     "grade": true,
     "grade_id": "cell-f0ae50cb4bb6c918",
     "locked": true,
     "points": 1,
     "schema_version": 1,
     "solution": false
    }
   },
   "outputs": [],
   "source": [
    "stopifnot(round(mean(trump_2016$votes),digits=6) == 3709.576408)"
   ]
  },
  {
   "cell_type": "markdown",
   "metadata": {
    "deletable": false,
    "editable": false,
    "nbgrader": {
     "checksum": "0cf3a9aa825ee0e7f87d771faf24f484",
     "grade": false,
     "grade_id": "cell-6b18587005e60c29",
     "locked": true,
     "schema_version": 1,
     "solution": false
    }
   },
   "source": [
    "Create a chloropleth map that shows the porportion of registered Republican voters that voted for Trump in each county. The variable from the `trump_2016` data set that you should use is `fraction_votes`. Use the `cut` function to create seven interval groups: 0% - 15%, 15% - 30%, 30% - 45%, 45% - 60%, 60% - 75%, 75% - 90%, and above 90%. This will be necessary when creating the color buckets for plotting. Remember to include all of the necessary plot elements like a title, legend, context information, etc."
   ]
  },
  {
   "cell_type": "code",
   "execution_count": null,
   "metadata": {
    "collapsed": true,
    "deletable": false,
    "nbgrader": {
     "checksum": "68709c175f70ae641ccc1887e6cc6f1f",
     "grade": true,
     "grade_id": "cell-b4664018f9ceb5e2",
     "locked": false,
     "points": 4,
     "schema_version": 1,
     "solution": true
    }
   },
   "outputs": [],
   "source": [
    "# YOUR CODE HERE\n",
    "install.packages(\"mapproj\")\n",
    "install.packages(\"RColorBrewer\")\n",
    "library(RColorBrewer)\n",
    "colors = brewer.pal(7, \"Greens\")\n",
    "\n",
    "library(\"maps\")\n",
    "data(\"county.fips\")\n",
    "levels = c(0,0.15,0.3,0.45,0.6,0.75,0.9,1)\n",
    "trump_2016$colorbuckets = as.numeric(cut(trump_2016$fraction_votes,breaks = levels))\n",
    "leg.txt = c(\"0-15%\",\"15-30%\",\"30-45%\",\"45-60%\",\"60-75%\",\"75-90%\",\"above 90%\")\n",
    "map.data = county.fips\n",
    "plot.data = merge(map.data,trump_2016,by = \"fips\")\n",
    "\n",
    "map(\"county\", col = colors[plot.data$colorbuckets], fill = TRUE, resolution = 0, lty = 0, projection = \"polyconic\")\n",
    "map(\"state\", col = \"white\", fill = FALSE, add = TRUE, lty= 1, lwd = 0.2, projection=\"polyconic\")\n",
    "title(\"Proportion of registered Republican voters that voted for Trump in each county\")\n",
    "legend(\"topleft\", leg.txt, horiz = TRUE, fill = colors,bty=\"n\")\n"
   ]
  },
  {
   "cell_type": "markdown",
   "metadata": {
    "deletable": false,
    "editable": false,
    "nbgrader": {
     "checksum": "20f2d790ecea3bd587afb5b49b26e90b",
     "grade": false,
     "grade_id": "cell-6f0208720b3ae6fa",
     "locked": true,
     "schema_version": 1,
     "solution": false
    }
   },
   "source": [
    "---\n",
    "\n",
    "# Problem 2\n",
    "\n",
    "Next, the `air_qual` data set includes information on the median levels of the pollutant measure PM2.5 at 142 outdoor monitoring stations in California in 2017. Use these data to create an isopleth map of the median PM2.5 levels in 2017. Include all necessary plot elements."
   ]
  },
  {
   "cell_type": "code",
   "execution_count": null,
   "metadata": {
    "collapsed": true,
    "deletable": false,
    "nbgrader": {
     "checksum": "6bd03748c2bea88c2643b741bd0e65ea",
     "grade": true,
     "grade_id": "cell-58d74438d8783027",
     "locked": false,
     "points": 5,
     "schema_version": 1,
     "solution": true
    }
   },
   "outputs": [],
   "source": [
    "data(\"air_qual\")\n",
    "# YOUR CODE HERE\n",
    "\n",
    "library(maps)\n",
    "library(AMSdata)\n",
    "library(RColorBrewer)\n",
    "library(akima)\n",
    "\n",
    "x = air_qual\n",
    "x$logpm2.5 = log(1+x$pm2.5)\n",
    "map(\"usa\", xlim=c(-124,-116), ylim=c(32, 42), lwd=2, fill=T, col=\"grey\",\n",
    "     boundary=FALSE, mar=c(1,1,1,1))\n",
    "colorscale = brewer.pal(8, \"PuRd\")\n",
    "scallops.int = interp(x=x$SITE_LONGITUDE, y=x$SITE_LATITUDE, z=x$logpm2.5,\n",
    "                      xo=seq(min(x$SITE_LONGITUDE), max(x$SITE_LONGITUDE), length = 80),\n",
    "                      yo=seq(min(x$SITE_LATITUDE), max(x$SITE_LATITUDE), length = 80), linear = F)\n",
    "\n",
    "image(scallops.int, col=colorscale, axes=F, add=T)\n",
    "contour(scallops.int, add=T, col=\"black\")\n",
    "points(x$SITE_LONGITUDE, x$SITE_LATITUDE, cex=0.75, pch=20)\n",
    "\n"
   ]
  },
  {
   "cell_type": "markdown",
   "metadata": {
    "deletable": false,
    "editable": false,
    "nbgrader": {
     "checksum": "cb0b1dc12af23f5fb185dde8f3441930",
     "grade": false,
     "grade_id": "cell-18ab137b29ef086f",
     "locked": true,
     "schema_version": 1,
     "solution": false
    }
   },
   "source": [
    "---\n",
    "\n",
    "# Problem 3\n",
    "\n",
    "The `lesson_8` data set contains mostly-cleaned text data from the lecture 8 slides. Use this information to produce two plots: a word cloud of the most common words used in the lecture, and a bar plot of the 8 most common words. In order to prevent too many words from appearing in the word cloud, set the minimum number of occurrances for each word to be 5. Include plot elements on the bar plot, but exclude the title, labels, and context information on the word cloud, as including it may be confusing."
   ]
  },
  {
   "cell_type": "code",
   "execution_count": null,
   "metadata": {
    "collapsed": true,
    "deletable": false,
    "nbgrader": {
     "checksum": "33fd825de59e67af6e8d7571290c73cb",
     "grade": true,
     "grade_id": "cell-d74f7f7527480243",
     "locked": false,
     "points": 5,
     "schema_version": 1,
     "solution": true
    }
   },
   "outputs": [],
   "source": [
    "data(\"lesson_8\")\n",
    "install.packages(\"tm\")\n",
    "install.packages(\"SnowballC\")\n",
    "install.packages(\"wordcloud\")\n",
    "install.packages(\"RColorBrewer\")\n",
    "# YOUR CODE HERE\n",
    "library(tm)\n",
    "library(AMSdata)\n",
    "library(SnowballC)\n",
    "library(RColorBrewer)\n",
    "library(wordcloud)\n",
    "\n",
    "a = lesson_8\n",
    "docs = Corpus(VectorSource(a))\n",
    "docs = tm_map(docs, content_transformer(tolower))\n",
    "docs = tm_map(docs, removeNumbers)\n",
    "docs = tm_map(docs, removePunctuation)\n",
    "docs = tm_map(docs, stripWhitespace)\n",
    "docs = tm_map(docs, removeWords, stopwords(\"english\"))\n",
    "dtm = TermDocumentMatrix(docs)\n",
    "m = as.matrix(dtm)\n",
    "v = sort(rowSums(m),decreasing=TRUE)\n",
    "d = data.frame(word = names(v),freq=v)\n",
    "set.seed(1234)\n",
    "wordcloud(words = d$word, freq = d$freq, min.freq = 5,max.words=200, random.order=FALSE, rot.per=0.35, colors=brewer.pal(8, \"Dark2\"))\n",
    "\n",
    "ord = order(d$freq, decreasing=T)\n",
    "pal2 = brewer.pal(8,\"Dark2\")\n",
    "colscale = c(pal2[8], pal2[7],pal2[5], rep(pal2[4],2),rep(pal2[3],3))\n",
    "par(mar=c(3,5,1,1)+0.2)\n",
    "barplot(height=round(d$freq[ord[1:8]]/sum(d$freq), 4),names.arg=NULL, horiz=T, las=1,xlim=c(0,0.03), col=colscale,border=colscale)\n",
    "mtext(side = 2, line = 1, text =d$word[ord[1:8]], at = seq(0.7,length=8,by=1.2), las=2, col=colscale)"
   ]
  },
  {
   "cell_type": "markdown",
   "metadata": {
    "deletable": false,
    "editable": false,
    "nbgrader": {
     "checksum": "e812256f86a4273b9940d5c65273d8d4",
     "grade": false,
     "grade_id": "cell-0c1607fc9fbdec8c",
     "locked": true,
     "schema_version": 1,
     "solution": false
    }
   },
   "source": [
    "---\n",
    "\n",
    "# Problem 4\n",
    "\n",
    "The `new_quakes` data set includes data on earthquakes that registered over a magnitude of 4.5 between October 23, 2017 and November 23, 2017 all over the world. Use this data frame to make a point process map in which the color of each point describes its magnitude. Be sure to include a title, legend, and context information!"
   ]
  },
  {
   "cell_type": "code",
   "execution_count": null,
   "metadata": {
    "collapsed": true,
    "deletable": false,
    "nbgrader": {
     "checksum": "c322632b654c1e52699d6ee2f744310f",
     "grade": true,
     "grade_id": "cell-5898eba9a491508c",
     "locked": false,
     "points": 4,
     "schema_version": 1,
     "solution": true
    }
   },
   "outputs": [],
   "source": [
    "library(AMSdata)\n",
    "data(\"new_quakes\")\n",
    "library(ggplot2)\n",
    "library(ggmap)\n",
    "\n",
    "# YOUR CODE HERE\n",
    "x = new_quakes\n",
    "map.world <- map_data(map = \"world\")\n",
    "sp = ggplot(data = x, aes(longitude,latitude))\n",
    "sp = sp+geom_polygon(data = map.world, aes(long, lat, group = group), colour = \"white\", size = 0.4)\n",
    "sp = sp+geom_point(aes(colour = mag, size = mag, fill = mag), alpha = 0.7)\n",
    "sp = sp+scale_colour_gradient(low = \"green\", high = \"red\")\n",
    "\n",
    "#earthquakes that registered over a magnitude of 4.5 between October 23, 2017 and November 23, 2017\n",
    "sp + ggtitle(\"                             Earthquakes that registered over a magnitude of 4.5 between October 23, 2017 and November 23, 2017\")"
   ]
  }
 ],
 "metadata": {
  "kernelspec": {
   "display_name": "R",
   "language": "R",
   "name": "ir"
  },
  "language_info": {
   "codemirror_mode": "r",
   "file_extension": ".r",
   "mimetype": "text/x-r-source",
   "name": "R",
   "pygments_lexer": "r",
   "version": "3.4.2"
  }
 },
 "nbformat": 4,
 "nbformat_minor": 2
}
