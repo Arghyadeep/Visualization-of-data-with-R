{
 "cells": [
  {
   "cell_type": "markdown",
   "metadata": {},
   "source": [
    "Before you turn this problem set in, make sure everything runs as expected. First, **restart the kernel** (in the menubar, select Kernel$\\rightarrow$Restart) and then **run all cells** (in the menubar, select Cell$\\rightarrow$Run All). Note that in code sections, you must replace `stop(\"Not Implemented\")` with your code. Otherwise, you will have points automatically deducted in the grading process.\n",
    "\n",
    "**Please do not rename this file.**\n",
    "\n",
    "Make sure you fill in any place that says `YOUR CODE HERE` or \"YOUR ANSWER/EXPLANATION HERE\". In addition, please do not include your name on this assignment to ensure anonymity for the peer reviews."
   ]
  },
  {
   "cell_type": "markdown",
   "metadata": {},
   "source": [
    "---"
   ]
  },
  {
   "cell_type": "markdown",
   "metadata": {},
   "source": [
    "# Problem 1\n",
    "\n",
    "Part of this assignment will examine the [Gapminder](http://www.gapminder.org/) dataset, which can be imported into R as follows:"
   ]
  },
  {
   "cell_type": "code",
   "execution_count": null,
   "metadata": {
    "collapsed": true
   },
   "outputs": [],
   "source": [
    "# This information is available within the gapminder package\n",
    "install.packages(\"gapminder\")\n",
    "library(gapminder)\n",
    "data(\"gapminder\")"
   ]
  },
  {
   "cell_type": "markdown",
   "metadata": {},
   "source": [
    "Now there should be a data set called `gapminder` in the R global environment. Conduct a few tests on the data. First, make a data frame called `year_2007` that contains only information from the year 2007, the most recent year in the data set. Make sure that all of the columns have the same names as those in the original data set."
   ]
  },
  {
   "cell_type": "code",
   "execution_count": null,
   "metadata": {
    "collapsed": true,
    "deletable": false,
    "nbgrader": {
     "checksum": "bb5c5355e4fac15600cc12b9bd4213ba",
     "grade": false,
     "grade_id": "problem_1_year_2007",
     "locked": false,
     "schema_version": 1,
     "solution": true
    }
   },
   "outputs": [],
   "source": [
    "# YOUR CODE HERE\n",
    "year_2007 = gapminder[gapminder$year == 2007,]"
   ]
  },
  {
   "cell_type": "markdown",
   "metadata": {},
   "source": [
    "Run the next code cell to test if the data set was correctly subsetted."
   ]
  },
  {
   "cell_type": "code",
   "execution_count": null,
   "metadata": {
    "collapsed": true,
    "deletable": false,
    "editable": false,
    "nbgrader": {
     "checksum": "9207e45af8b5bcf3cd4f34c3b92eeb66",
     "grade": true,
     "grade_id": "problem_1_subset_test",
     "locked": true,
     "points": 1,
     "schema_version": 1,
     "solution": false
    }
   },
   "outputs": [],
   "source": [
    "stopifnot(max(year_2007$year) == 2007,\n",
    "         min(year_2007$year) == 2007,\n",
    "         names(year_2007) == c(\"country\", \"continent\", \"year\", \"lifeExp\", \"pop\", \"gdpPercap\"\n",
    "),\n",
    "         dim(year_2007) == c(142L, 6L))"
   ]
  },
  {
   "cell_type": "markdown",
   "metadata": {},
   "source": [
    "Life expectancy in Africa is lower than much of the rest of the world. Create a new variable in the `year_2007` data frame called `in_Africa` that indicates whether a country is on the continent of Africa. Create another variable in the data frame called `lifeExp_above_60` that indicates whether the life expectancy for a country is above 60. In order to make sure the variables are easy to understand, make the values for the `in_Africa` variable either \"In Africa\" or \"Not in Africa\", and the values for the `lifeExp_above_60` variable either \"Above 60\" or \"Not Above 60\"."
   ]
  },
  {
   "cell_type": "code",
   "execution_count": null,
   "metadata": {
    "collapsed": true,
    "deletable": false,
    "nbgrader": {
     "checksum": "028a66e9c87ebf0a0712d47749eaf349",
     "grade": false,
     "grade_id": "problem_1_new_vars",
     "locked": false,
     "schema_version": 1,
     "solution": true
    }
   },
   "outputs": [],
   "source": [
    "# YOUR CODE HERE\n",
    "year_2007[\"in_Africa\"] = ifelse(year_2007$continent == \"Africa\", \"In Africa\", \"Not in Africa\")\n",
    "year_2007[\"lifeExp_above_60\"] = ifelse(year_2007$lifeExp > 60,\"Above 60\",\"Not Above 60\" )"
   ]
  },
  {
   "cell_type": "markdown",
   "metadata": {},
   "source": [
    "Now see if the new variables were created successfully:"
   ]
  },
  {
   "cell_type": "code",
   "execution_count": null,
   "metadata": {
    "collapsed": true,
    "deletable": false,
    "editable": false,
    "nbgrader": {
     "checksum": "433e4676270a7f383d95723b5a65b02d",
     "grade": true,
     "grade_id": "problem_1_new_vars_test",
     "locked": true,
     "points": 1,
     "schema_version": 1,
     "solution": false
    }
   },
   "outputs": [],
   "source": [
    "stopifnot(unique(year_2007$in_Africa) == c(\"Not in Africa\", \"In Africa\"),\n",
    "         unique(year_2007$lifeExp_above_60) == c(\"Not Above 60\", \"Above 60\"),\n",
    "         table(year_2007$lifeExp_above_60) == structure(c(99L, 43L), .Dim = 2L, .Dimnames = structure(list(\n",
    "    c(\"Above 60\", \"Not Above 60\")), .Names = \"\"), class = \"table\"))"
   ]
  },
  {
   "cell_type": "markdown",
   "metadata": {},
   "source": [
    "In order to see the data that will be tested, make a $2 \\times 2$ table of these two variables called `my_table`. Make sure that the table is readable!"
   ]
  },
  {
   "cell_type": "code",
   "execution_count": null,
   "metadata": {
    "collapsed": true,
    "deletable": false,
    "nbgrader": {
     "checksum": "770d9ffe75631d8f92a38eb20a9e7843",
     "grade": false,
     "grade_id": "problem_1_table",
     "locked": false,
     "schema_version": 1,
     "solution": true
    }
   },
   "outputs": [],
   "source": [
    "# YOUR CODE HERE\n",
    "my_table = table(year_2007[,7],year_2007[,8])"
   ]
  },
  {
   "cell_type": "markdown",
   "metadata": {},
   "source": [
    "This will check to see if the table was created correctly:"
   ]
  },
  {
   "cell_type": "code",
   "execution_count": null,
   "metadata": {
    "collapsed": true,
    "deletable": false,
    "editable": false,
    "nbgrader": {
     "checksum": "8c00f666f3fdddca217f0accace9c354",
     "grade": true,
     "grade_id": "problem_1_table_test",
     "locked": true,
     "points": 1,
     "schema_version": 1,
     "solution": false
    }
   },
   "outputs": [],
   "source": [
    "stopifnot(my_table == structure(c(12L, 87L, 40L, 3L), .Dim = c(2L, 2L), .Dimnames = structure(list(\n",
    "    c(\"In Africa\", \"Not in Africa\"), c(\"Above 60\", \"Not Above 60\"\n",
    "    )), .Names = c(\"\", \"\")), class = \"table\"))"
   ]
  },
  {
   "cell_type": "markdown",
   "metadata": {},
   "source": [
    "Now perform a test for equal proportions for the hypotheses\n",
    "$$ \\begin{array}{ll}\n",
    "H_0: & p_{Africa} \\geq p_{non-Africa} \\\\\n",
    "H_1: & p_{Africa} < p_{non-Africa}\n",
    "\\end{array}$$\n",
    "These will test to see if Africa has a significantly lower proportion of countries with a life expectancy greater than 60 years than the rest of the world. Use the continuity correction and make a 97% confidence interval for $p_{Africa} - p_{non-Africa}$. Assign the test to an object named `lifeExp_prop_test`."
   ]
  },
  {
   "cell_type": "code",
   "execution_count": null,
   "metadata": {
    "collapsed": true,
    "deletable": false,
    "nbgrader": {
     "checksum": "87d1418e6b1a8abee9f4b92c806692e4",
     "grade": false,
     "grade_id": "problem_1_test",
     "locked": false,
     "schema_version": 1,
     "solution": true
    }
   },
   "outputs": [],
   "source": [
    "# YOUR CODE HERE\n",
    "lifeExp_prop_test = prop.test(my_table,conf.level = 0.97,correct = TRUE)"
   ]
  },
  {
   "cell_type": "markdown",
   "metadata": {},
   "source": [
    "If you did this correctly, the following cell will run:"
   ]
  },
  {
   "cell_type": "code",
   "execution_count": null,
   "metadata": {
    "collapsed": true,
    "deletable": false,
    "editable": false,
    "nbgrader": {
     "checksum": "aa4090500849a1c04263be0844dff314",
     "grade": true,
     "grade_id": "problem_1_test_test",
     "locked": true,
     "points": 1,
     "schema_version": 1,
     "solution": false
    }
   },
   "outputs": [],
   "source": [
    "stopifnot(round(lifeExp_prop_test$statistic,digits = 3) == structure(81.091, .Names = \"X-squared\"))"
   ]
  },
  {
   "cell_type": "markdown",
   "metadata": {},
   "source": [
    "---\n",
    "\n",
    "# Problem 2\n",
    "\n",
    "This problem will continue examining the Gapminder data set. If the R environment has been cleared, the following commands will bring the `gapminder` data frame back to the environment:"
   ]
  },
  {
   "cell_type": "code",
   "execution_count": null,
   "metadata": {
    "collapsed": true
   },
   "outputs": [],
   "source": [
    "library(gapminder)\n",
    "data(\"gapminder\")"
   ]
  },
  {
   "cell_type": "markdown",
   "metadata": {},
   "source": [
    "Create another subset of the `gapminder` data set containing information on Oceania and Europe in the year 2007. Name this data frame `EO_year_2007`, and make sure that the column names are the same as in the original data set."
   ]
  },
  {
   "cell_type": "code",
   "execution_count": null,
   "metadata": {
    "collapsed": true,
    "deletable": false,
    "nbgrader": {
     "checksum": "05743300deb7b3e83de9aa74c04b7c41",
     "grade": false,
     "grade_id": "problem_2_subset",
     "locked": false,
     "schema_version": 1,
     "solution": true
    }
   },
   "outputs": [],
   "source": [
    "# YOUR CODE HERE\n",
    "EO_year_2007 = gapminder[gapminder$year == 2007&(gapminder$continent==\"Oceania\"|gapminder$continent==\"Europe\"),]"
   ]
  },
  {
   "cell_type": "markdown",
   "metadata": {},
   "source": [
    "Check that the subset was done correctly:"
   ]
  },
  {
   "cell_type": "code",
   "execution_count": null,
   "metadata": {
    "collapsed": true,
    "deletable": false,
    "editable": false,
    "nbgrader": {
     "checksum": "0cf40738c509c5cdc04d6ab5748d0171",
     "grade": true,
     "grade_id": "problem_2_subset_test",
     "locked": true,
     "points": 1,
     "schema_version": 1,
     "solution": false
    }
   },
   "outputs": [],
   "source": [
    "stopifnot(unique(EO_year_2007$continent) == structure(4:5, .Label = c(\"Africa\", \"Americas\", \"Asia\", \"Europe\", \n",
    "\"Oceania\"), class = \"factor\"),\n",
    "         dim(EO_year_2007) == c(32L, 6L))"
   ]
  },
  {
   "cell_type": "markdown",
   "metadata": {},
   "source": [
    "There are multiple ways to perform calculations within groups. Probably the easiest way to do this without loading any extra packages in R is to use the `aggregate` function. Formulas can be used within the `aggregate` function to easily specify the groups to aggregate over. For example, if attempting to aggregate the average (mean) `Sepal.Length` in the `iris` dataset, one can use the code:"
   ]
  },
  {
   "cell_type": "code",
   "execution_count": null,
   "metadata": {
    "collapsed": true
   },
   "outputs": [],
   "source": [
    "data(\"iris\")\n",
    "aggregate(Sepal.Length ~ Species,data=iris,FUN=mean)"
   ]
  },
  {
   "cell_type": "markdown",
   "metadata": {},
   "source": [
    "Using the `aggregate` function, find the average GDP per capita (`gdpPercap`) for Europe and Oceania. Name the aggregate data frame `gdp_means`, and make sure it has two columns with the names `continent` and `gdpPercap`. "
   ]
  },
  {
   "cell_type": "code",
   "execution_count": null,
   "metadata": {
    "collapsed": true,
    "deletable": false,
    "nbgrader": {
     "checksum": "ce02f6af1913ddbfc94ab35104c53d16",
     "grade": false,
     "grade_id": "problem_2_aggregate",
     "locked": false,
     "schema_version": 1,
     "solution": true
    }
   },
   "outputs": [],
   "source": [
    "# YOUR CODE HERE\n",
    "gdp_means = aggregate(gdpPercap ~ continent, data = EO_year_2007,FUN =mean)"
   ]
  },
  {
   "cell_type": "markdown",
   "metadata": {},
   "source": [
    "If you did this correctly, the following test should run without errors:"
   ]
  },
  {
   "cell_type": "code",
   "execution_count": null,
   "metadata": {
    "collapsed": true,
    "deletable": false,
    "editable": false,
    "nbgrader": {
     "checksum": "c8068c3b18b70eb93a3edec9f1c6fa72",
     "grade": true,
     "grade_id": "problem_2_aggregate_test",
     "locked": true,
     "points": 1,
     "schema_version": 1,
     "solution": false
    }
   },
   "outputs": [],
   "source": [
    "stopifnot(round(gdp_means$gdpPercap,digits=2) == c(25054.48, 29810.19))"
   ]
  },
  {
   "cell_type": "markdown",
   "metadata": {},
   "source": [
    "Based on the aggregation, the average GDP per capita for Oceania is higher than that of Europe. This is supported by visualizing the boxplot for the two groups:"
   ]
  },
  {
   "cell_type": "code",
   "execution_count": null,
   "metadata": {
    "collapsed": true
   },
   "outputs": [],
   "source": [
    "# Note that this will only work if you have created the year_2007 data frame in problem 1\n",
    "boxplot(gdpPercap/1000 ~ continent,data=year_2007,ylab = \"GDP per Capita ($K)\",main = \"GDP per capita in 2007\")"
   ]
  },
  {
   "cell_type": "markdown",
   "metadata": {},
   "source": [
    "Before testing to see if the means are significantly different for the two continents, examine whether or not the groups have equal variances. Test the hypotheses:\n",
    "$$\\begin{align}\n",
    "H_0: & \\sigma_{Europe}^2 = \\sigma_{Oceania}^2 \\\\\n",
    "H_1: & \\sigma_{Europe}^2 \\neq \\sigma_{Oceania}^2\n",
    "\\end{align}$$\n",
    "Name the test object `EO_gdp_var_test`."
   ]
  },
  {
   "cell_type": "code",
   "execution_count": null,
   "metadata": {
    "collapsed": true,
    "deletable": false,
    "nbgrader": {
     "checksum": "f95d0088923483e86f8df2cde56326a6",
     "grade": false,
     "grade_id": "problem_2_var_test",
     "locked": false,
     "schema_version": 1,
     "solution": true
    }
   },
   "outputs": [],
   "source": [
    "# YOUR CODE HERE\n",
    "EO_gdp_var_test = var.test(EO_year_2007[EO_year_2007$continent == \"Europe\",6],EO_year_2007[EO_year_2007$continent == \"Oceania\",6])"
   ]
  },
  {
   "cell_type": "markdown",
   "metadata": {},
   "source": [
    "Check that the test was performed correctly:"
   ]
  },
  {
   "cell_type": "code",
   "execution_count": null,
   "metadata": {
    "collapsed": true,
    "deletable": false,
    "editable": false,
    "nbgrader": {
     "checksum": "a9e51ca331edaa9fa807fb4a42290664",
     "grade": true,
     "grade_id": "problem_2_var_test_test",
     "locked": true,
     "points": 1,
     "schema_version": 1,
     "solution": false
    }
   },
   "outputs": [],
   "source": [
    "stopifnot(round(EO_gdp_var_test$p.value,digits = 3) == 0.833)"
   ]
  },
  {
   "cell_type": "markdown",
   "metadata": {},
   "source": [
    "Is the difference in the average GPA per capita *statistically significant*? Perform a t-test (using your `EO_year_2007` data frame) to see if there is a statistically significant difference in the means of GDP per capita between Europe and Oceania. Based on the variance test above, the variances in the GDPs for the two continents are not significantly different (because the p-value is higher than any reasonable value for $\\alpha$), so make sure you perform your test correctly. Test the hypotheses\n",
    "$$ \\begin{array}{ll}\n",
    "H_0: & \\mu_{Europe} = \\mu_{Oceania} \\\\\n",
    "H_1: & \\mu_{Europe} \\neq \\mu_{Oceania}\n",
    "\\end{array} $$\n",
    "and assign the test to an object named `EO_mean_gdp_test`. "
   ]
  },
  {
   "cell_type": "code",
   "execution_count": null,
   "metadata": {
    "collapsed": true,
    "deletable": false,
    "nbgrader": {
     "checksum": "a38f1d9920c6884eed29cb8bd8509dea",
     "grade": false,
     "grade_id": "problem_2_test",
     "locked": false,
     "schema_version": 1,
     "solution": true
    }
   },
   "outputs": [],
   "source": [
    "# YOUR CODE HERE\n",
    "#the p-value is stuck at 0.4779 no matter what I tried :(\n",
    "EO_mean_gdp_test = t.test(EO_year_2007[EO_year_2007$continent == \"Europe\",6],EO_year_2007[EO_year_2007$continent == \"Oceania\",6])"
   ]
  },
  {
   "cell_type": "markdown",
   "metadata": {},
   "source": [
    "The following test will work if you successfully coded the hypothesis test:"
   ]
  },
  {
   "cell_type": "code",
   "execution_count": null,
   "metadata": {
    "collapsed": true,
    "deletable": false,
    "editable": false,
    "nbgrader": {
     "checksum": "80735f47e30624d54d2656decbc003a9",
     "grade": true,
     "grade_id": "problem_2_test_test",
     "locked": true,
     "points": 1,
     "schema_version": 1,
     "solution": false
    }
   },
   "outputs": [],
   "source": [
    "stopifnot(round(EO_mean_gdp_test$p.value,digits = 3) == 0.581)"
   ]
  },
  {
   "cell_type": "markdown",
   "metadata": {},
   "source": [
    "Based on the test output, the average GDP per capita is not significantly different for Oceania and Europe, as the p-value is much higher than any reasonable $\\alpha$-level (this is usually set to 0.05). "
   ]
  },
  {
   "cell_type": "markdown",
   "metadata": {},
   "source": [
    "Not so fast! One of the assumptions of using the t-test is that the underlying distributions for each of the groups is normal or approximately normal. The following plot shows the densities for the two groups in the sample:"
   ]
  },
  {
   "cell_type": "code",
   "execution_count": null,
   "metadata": {
    "collapsed": true
   },
   "outputs": [],
   "source": [
    "plot(density(subset(EO_year_2007,continent == \"Oceania\")$gdpPercap/1000),\n",
    "     xlim = c(0,60),\n",
    "     xlab = \"GDP per capita ($K)\",\n",
    "     col=\"blue\",\n",
    "     lwd=2,\n",
    "     main = \"GDP per Capita - Density Curves\")\n",
    "lines(density(subset(EO_year_2007,continent == \"Europe\")$gdpPercap/1000),\n",
    "      col='red',\n",
    "      lwd=2)\n",
    "legend(\"topright\",legend = c(\"Europe\",\"Oceania\"),col = c(\"red\",\"blue\"),lwd=2)"
   ]
  },
  {
   "cell_type": "markdown",
   "metadata": {},
   "source": [
    "Neither of the curves looks very much like the normal density curve (do a Google search if that isn't familiar). This suggests that the t-test might not be the correct method to use. Instead, conduct a Mann-Whitney test on the following hypotheses:\n",
    "$$\\begin{align}\n",
    "H_0: & m_{Europe} = m_{Oceania} \\\\\n",
    "H_1: & m_{Europe} \\neq m_{Oceania} \n",
    "\\end{align}$$\n",
    "In this case, $m$ represents the median of each group. Name the test object `EO_gdp_mann_whitney`."
   ]
  },
  {
   "cell_type": "code",
   "execution_count": null,
   "metadata": {
    "collapsed": true,
    "deletable": false,
    "nbgrader": {
     "checksum": "565abee74f0ec327c13dbf1b15dcbb2d",
     "grade": false,
     "grade_id": "problem_2_mann_whitney_test",
     "locked": false,
     "schema_version": 1,
     "solution": true
    }
   },
   "outputs": [],
   "source": [
    "# YOUR CODE HERE\n",
    "x = gapminder[gapminder$continent == \"Europe\" & gapminder$year == \"2007\",6]\n",
    "y = gapminder[gapminder$continent == \"Oceania\" & gapminder$year == \"2007\",6]\n",
    "EO_gdp_mann_whitney = wilcox.test(x,y)"
   ]
  },
  {
   "cell_type": "markdown",
   "metadata": {},
   "source": [
    "Finally, check to see that the test was conducted correctly:"
   ]
  },
  {
   "cell_type": "code",
   "execution_count": null,
   "metadata": {
    "collapsed": true,
    "deletable": false,
    "editable": false,
    "nbgrader": {
     "checksum": "51ba7b61a2ae832ecd6a83380d0305c1",
     "grade": true,
     "grade_id": "problem_2_mann_whitney_test_test",
     "locked": true,
     "points": 1,
     "schema_version": 1,
     "solution": false
    }
   },
   "outputs": [],
   "source": [
    "stopifnot(round(EO_gdp_mann_whitney$p.value,digits=3) == 0.681)"
   ]
  },
  {
   "cell_type": "markdown",
   "metadata": {},
   "source": [
    "Since the p-value is still much higher than a reasonable $\\alpha$-level (remember, this is usually set to 0.05), the medians of the two groups are not significantly different. "
   ]
  },
  {
   "cell_type": "markdown",
   "metadata": {},
   "source": [
    "---\n",
    "\n",
    "# Problem 3\n",
    "\n",
    "In the context of hypothesis testing using data in a contingency table, a test of proportions can be used when the dimensions of the tables are $2 \\times 2$ or $1 \\times 2$, though data in the latter case are rarely represented in a contingency table. However, if the contingency table has dimensions greater then $2 \\times 2$, a test of proportions won't work without simplifying the table, as was done in Problem 1. For a higher-dimension contingency table, Pearson's $\\chi^2$ test can be used. In order to show this, begin by again subsetting the `gapminder` data to look at only the information from the year 2007. In addition, use the `cut` function to create a new variable *within* the subsetted data frame called `gdp_bin` such that the `gdpPercap` variable is grouped by whether the GDP per capita is in the sets (0,10000], (10000,20000], (20000,30000], (30000,40000], or (40000,50000]. Name the subsetted data frame `problem_3`. Note that R will name the bins using scientific notation for the numbers by default. This should not be changed."
   ]
  },
  {
   "cell_type": "code",
   "execution_count": null,
   "metadata": {
    "collapsed": true,
    "deletable": false,
    "nbgrader": {
     "checksum": "a1e568bf3de8570fe6ae2fadc2b303fe",
     "grade": false,
     "grade_id": "problem_3_data",
     "locked": false,
     "schema_version": 1,
     "solution": true
    }
   },
   "outputs": [],
   "source": [
    "library(gapminder)\n",
    "data(\"gapminder\")\n",
    "\n",
    "levels = c(0,10000,20000,30000,40000,50000)\n",
    "problem_3 = gapminder[gapminder$year == 2007,c(2,6)]\n",
    "problem_3$gdp_bin = cut(problem_3$gdpPercap,levels)\n"
   ]
  },
  {
   "cell_type": "markdown",
   "metadata": {},
   "source": [
    "Check to make sure this was done correctly:"
   ]
  },
  {
   "cell_type": "code",
   "execution_count": null,
   "metadata": {
    "collapsed": true,
    "deletable": false,
    "editable": false,
    "nbgrader": {
     "checksum": "755fc13845641c8d4d36d0b40b8cbbd9",
     "grade": true,
     "grade_id": "problem_3_data_test",
     "locked": true,
     "points": 1,
     "schema_version": 1,
     "solution": false
    }
   },
   "outputs": [],
   "source": [
    "stopifnot(table(problem_3$continent,problem_3$gdp_bin) == structure(c(47L, 16L, 20L, 5L, 0L, 5L, 7L, 3L, 6L, 0L, 0L, 0L, \n",
    "6L, 6L, 1L, 0L, 1L, 2L, 11L, 1L, 0L, 1L, 2L, 2L, 0L), .Dim = c(5L, \n",
    "5L), .Dimnames = structure(list(c(\"Africa\", \"Americas\", \"Asia\", \n",
    "\"Europe\", \"Oceania\"), c(\"(0,1e+04]\", \"(1e+04,2e+04]\", \"(2e+04,3e+04]\", \n",
    "\"(3e+04,4e+04]\", \"(4e+04,5e+04]\")), .Names = c(\"\", \"\")), class = \"table\"))"
   ]
  },
  {
   "cell_type": "markdown",
   "metadata": {},
   "source": [
    "Now conduct Pearson's $\\chi^2$ test to see if there is an association between which continent a country is on and its GDP per capita. Name the test object `gdp_continent_chisq`. Do not change any of the default options for the test in R. Note: R will return a warning message for this test because there are cells in the contingency table with small expected values. Ignore this warning in this assignment, but not in research!"
   ]
  },
  {
   "cell_type": "code",
   "execution_count": null,
   "metadata": {
    "collapsed": true,
    "deletable": false,
    "nbgrader": {
     "checksum": "f9b74911c6c0c580e71bc3dc7a56eb1f",
     "grade": false,
     "grade_id": "problem_3_test",
     "locked": false,
     "schema_version": 1,
     "solution": true
    }
   },
   "outputs": [],
   "source": [
    "# YOUR CODE HERE\n",
    "tbl = table(problem_3$continent, problem_3$gdp_bin)\n",
    "gdp_continent_chisq = chisq.test(tbl)"
   ]
  },
  {
   "cell_type": "markdown",
   "metadata": {},
   "source": [
    "Finally, check to see that the test performed correctly: "
   ]
  },
  {
   "cell_type": "code",
   "execution_count": null,
   "metadata": {
    "collapsed": true,
    "deletable": false,
    "editable": false,
    "nbgrader": {
     "checksum": "9b16350594063046b4605e99989932fb",
     "grade": true,
     "grade_id": "problem_3_test_test",
     "locked": true,
     "points": 1,
     "schema_version": 1,
     "solution": false
    }
   },
   "outputs": [],
   "source": [
    "stopifnot(round(gdp_continent_chisq$statistic,digits=3) == structure(73.731, .Names = \"X-squared\"))"
   ]
  },
  {
   "cell_type": "markdown",
   "metadata": {},
   "source": [
    "Based on this test, there is a clear relationship!"
   ]
  }
 ],
 "metadata": {
  "anaconda-cloud": {},
  "kernelspec": {
   "display_name": "R",
   "language": "R",
   "name": "ir"
  },
  "language_info": {
   "codemirror_mode": "r",
   "file_extension": ".r",
   "mimetype": "text/x-r-source",
   "name": "R",
   "pygments_lexer": "r",
   "version": "3.3.3"
  }
 },
 "nbformat": 4,
 "nbformat_minor": 2
}
