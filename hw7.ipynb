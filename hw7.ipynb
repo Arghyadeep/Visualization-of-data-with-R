{
 "cells": [
  {
   "cell_type": "markdown",
   "metadata": {},
   "source": [
    "Before you turn this problem set in, make sure everything runs as expected. First, **restart the kernel** (in the menubar, select Kernel$\\rightarrow$Restart) and then **run all cells** (in the menubar, select Cell$\\rightarrow$Run All). Note that in code sections, you must replace `stop(\"Not Implemented\")` with your code. Otherwise, you will have points automatically deducted in the grading process.\n",
    "\n",
    "**Please do not rename this file.**\n",
    "\n",
    "Make sure you fill in any place that says `YOUR CODE HERE` or \"YOUR ANSWER/EXPLANATION HERE\". In addition, please do not include your name on this assignment to ensure anonymity for the peer reviews."
   ]
  },
  {
   "cell_type": "markdown",
   "metadata": {},
   "source": [
    "---"
   ]
  },
  {
   "cell_type": "markdown",
   "metadata": {
    "deletable": false,
    "editable": false,
    "nbgrader": {
     "checksum": "55c36eaa04e120e8d09965c8c4ca190b",
     "grade": false,
     "grade_id": "cell-6fe4bae03467f236",
     "locked": true,
     "schema_version": 1,
     "solution": false
    }
   },
   "source": [
    "#### Note: Please post any questions that you have to the lesson 7 discussion board. This includes any questions about notation.\n",
    "\n",
    "# Problem 1\n",
    "\n",
    "### Weighted Averages\n",
    "\n",
    "This will require the `gapminder` data set, which was used in an earlier assignment (the `gapminder` package should, therefore, be installed on your computer). For more information about the data, load the `gapminder` package with `library(gapminder)`, and find the data set description with `?gapminder`.\n",
    "\n",
    "If one wants to examine some worldwide trend, it is often important that the data be **weighted** in order to obtain numbers that make sense. For example, if one wants to know the global human life expectancy, it makes sense that the nation-wide life expectancy in India or China should have more weight than that in, say, Luxembourg. In such a case, it is logical to weigh each country's contribution to the worldwide life expectancy by its population relative to the population of the planet at a certain time. For country $i$ at time $t$, the population weight of that country can be calculated as \n",
    "\n",
    "$$\\text{weight}_{i,t} = \\frac{\\text{pop}_{i,t}}{\\sum_{i = 1}^n \\text{pop}_{i,t}}$$\n",
    "\n",
    "If you're a little unsure about the notation here, $\\sum_{i = 1}^n \\text{pop}_{i,t}$ reads as \"the sum of all of the countries' populations at time $t$.\n",
    "\n",
    "Begin by correctly finding a weight for all of the countries using any method. As a hint, the `aggregate`, `merge`, and `transform` functions may be useful. Make a data frame called `pop_weight` that includes, at a minimum, all of the variables in the `gapminder` data frame and a variable called `pop_weight` that contains each country's population weight for all 12 different years that there are measurements. The `pop_weight` data frame should have 1704 rows."
   ]
  },
  {
   "cell_type": "code",
   "execution_count": null,
   "metadata": {
    "collapsed": true,
    "deletable": false,
    "nbgrader": {
     "checksum": "d45db8a52fb1715e8ca009835af05a41",
     "grade": false,
     "grade_id": "cell-e003e120d6ef7c6b",
     "locked": false,
     "schema_version": 1,
     "solution": true
    }
   },
   "outputs": [],
   "source": [
    "library(\"gapminder\")\n",
    "data(\"gapminder\")\n",
    "x = gapminder\n",
    "by_year_sum=aggregate(as.numeric(x$pop),  by =list(Category = x$year), FUN = \"sum\")\n",
    "pop_weight = list()\n",
    "for(i in 1:length(x$pop)){\n",
    "    temp = (i-1)%%length(by_year_sum$x)+1\n",
    "    pop_weight = c(pop_weight,x$pop[i]/(by_year_sum$x[temp]))\n",
    "    }\n",
    "abc = x\n",
    "abc$pop_weight = NA\n",
    "for (i in 1:length(abc$pop_weight)){abc$pop_weight[i] = as.numeric(pop_weight[i]) }\n",
    "pop_weight = abc\n",
    "\n",
    "#second round function is creating an error with the max value from .24099 to .24100"
   ]
  },
  {
   "cell_type": "markdown",
   "metadata": {
    "deletable": false,
    "editable": false,
    "nbgrader": {
     "checksum": "d8ec38c62184dcd108a1b0c9b1c86757",
     "grade": false,
     "grade_id": "cell-a3cbe99227894140",
     "locked": true,
     "schema_version": 1,
     "solution": false
    }
   },
   "source": [
    "Check to see that the calculation was done correctly."
   ]
  },
  {
   "cell_type": "code",
   "execution_count": null,
   "metadata": {
    "collapsed": true,
    "deletable": false,
    "editable": false,
    "nbgrader": {
     "checksum": "51e4307a337be51d36a6a0a84f2e5f1e",
     "grade": true,
     "grade_id": "cell-98f5fe1822db3728",
     "locked": true,
     "points": 1,
     "schema_version": 1,
     "solution": false
    }
   },
   "outputs": [],
   "source": [
    "stopifnot(c(names(gapminder),\"pop_weight\") %in% names(pop_weight),\n",
    "         round(summary(round(pop_weight$pop_weight,digits = 5)),digits = 5) == structure(c(2e-05, 0.00067, 0.00167, 0.00704, 0.00418, 0.24099\n",
    "), .Names = c(\"Min.\", \"1st Qu.\", \"Median\", \"Mean\", \"3rd Qu.\", \n",
    "\"Max.\"), class = c(\"summaryDefault\", \"table\")))"
   ]
  },
  {
   "cell_type": "markdown",
   "metadata": {
    "deletable": false,
    "editable": false,
    "nbgrader": {
     "checksum": "c1178eb78ac9aad4e384c1c0c6c4b670",
     "grade": false,
     "grade_id": "cell-7f70b7118f6042f6",
     "locked": true,
     "schema_version": 1,
     "solution": false
    }
   },
   "source": [
    "Now find the weighted average life expectancy for each country for each of the years in the `gapminder` data set. The `aggregate` and `transform` functions may be helpful here. Create a data frame called `weighted_life` which contains two variables, `year` and `weighted_lifeExp`. The weighted average can be found as\n",
    "\n",
    "$$\\text{weighted average}_t = \\sum_{i = 1}^n \\text{weight}_{i,t} \\times \\text{lifeExp}_{i,t}$$\n",
    "\n",
    "Similarly, create another data frame called `unweighted_life` which contains the variables `year` and `unweighted_lifeExp`. Each observation in these data sets should correspond to the global average life expectancy in a given year. Both data frames should have 12 observations. Check to make sure the averages were found correctly. "
   ]
  },
  {
   "cell_type": "code",
   "execution_count": null,
   "metadata": {
    "collapsed": true,
    "deletable": false,
    "nbgrader": {
     "checksum": "1792ecb79c2ff5440518b3fa9365ac6f",
     "grade": false,
     "grade_id": "cell-9e1757edd88d1efd",
     "locked": false,
     "schema_version": 1,
     "solution": true
    }
   },
   "outputs": [],
   "source": [
    "# YOUR CODE HERE\n",
    "library(\"gapminder\")\n",
    "data(\"gapminder\")\n",
    "x = gapminder\n",
    "by_year_sum=aggregate(as.numeric(x$pop),  by =list(Category = x$year), FUN = \"sum\")\n",
    "weights = list()\n",
    "for(i in 1:length(x$pop)){\n",
    "    temp = (i-1)%%length(by_year_sum$x)+1\n",
    "    weights = c(weights,x$pop[i]/(by_year_sum$x[temp]))\n",
    "    }\n",
    "abc = x\n",
    "abc$weights = NA\n",
    "for (i in 1:length(abc$weights)){abc$weights[i] = as.numeric(weights[i]) }\n",
    "pop_weight = abc\n",
    "unweighted_life = aggregate(pop_weight$lifeExp, by= list(year = x$year), FUN = mean)\n",
    "colnames(unweighted_life) = c(\"year\",\"unweighted_lifeExp\")\n",
    "a = transform(pop_weight, new_weights =pop_weight$weights*pop_weight$lifeExp)\n",
    "weighted_life = aggregate(a$new_weights, by = list(a$year), FUN = sum)\n",
    "colnames(weighted_life) = c(\"year\",\"weighted_lifeExp\")\n",
    "\n",
    "#rounding error...the numbers are getting rounded to 2 digits!"
   ]
  },
  {
   "cell_type": "markdown",
   "metadata": {},
   "source": [
    "Now check to make sure you calculated the averages correctly."
   ]
  },
  {
   "cell_type": "code",
   "execution_count": null,
   "metadata": {
    "collapsed": true,
    "deletable": false,
    "editable": false,
    "nbgrader": {
     "checksum": "e568eb0a553c3d715c518c9316df617d",
     "grade": true,
     "grade_id": "cell-88b8bc8d981b1274",
     "locked": true,
     "points": 2,
     "schema_version": 1,
     "solution": false
    }
   },
   "outputs": [],
   "source": [
    "stopifnot(round(summary(round(weighted_life$weighted_lifeExp,digits=5)),digits = 5) == structure(c(48.94424, 55.81933, 62.05951, 60.63986, 65.94676, \n",
    "68.91909), .Names = c(\"Min.\", \"1st Qu.\", \"Median\", \"Mean\", \"3rd Qu.\", \n",
    "\"Max.\"), class = c(\"summaryDefault\", \"table\")),\n",
    "         round(summary(round(unweighted_life$unweighted_lifeExp,digits=5)),digits = 5) == structure(c(49.05762, 55.16103, 60.55168, 59.47444, 64.37392, \n",
    "67.00742), .Names = c(\"Min.\", \"1st Qu.\", \"Median\", \"Mean\", \"3rd Qu.\", \n",
    "\"Max.\"), class = c(\"summaryDefault\", \"table\")))"
   ]
  },
  {
   "cell_type": "markdown",
   "metadata": {
    "deletable": false,
    "editable": false,
    "nbgrader": {
     "checksum": "8c1d9d03c61481f5ad5bd539e3a52f85",
     "grade": false,
     "grade_id": "cell-729ef78a7373daec",
     "locked": true,
     "schema_version": 1,
     "solution": false
    }
   },
   "source": [
    "Next, create a plot that compares the two averages over the years. Remember to include all of the necessary information on the graph, as discussed in lesson 6. Your plot must be able to run on any computer without any extra packages added (other than the `gapminder` package for the data). "
   ]
  },
  {
   "cell_type": "code",
   "execution_count": null,
   "metadata": {
    "collapsed": true,
    "deletable": false,
    "nbgrader": {
     "checksum": "84bc581a2bda066c5d0f33f3c453713e",
     "grade": true,
     "grade_id": "cell-79e5d3841f173c85",
     "locked": false,
     "points": 4,
     "schema_version": 1,
     "solution": true
    }
   },
   "outputs": [],
   "source": [
    "# YOUR CODE HERE\n",
    "xrange = range(weighted_life$year)\n",
    "yrange = range(weighted_life$weighted_lifeExp)\n",
    "plot(xrange,yrange, type = \"n\", xlab = \"year\", ylab = \"life expectancy averages\")\n",
    "colors = rainbow(24)\n",
    "for(i in 1:12){\n",
    "    lines(weighted_life$year,weighted_life$weighted_lifeExp, type=\"b\", lwd=1.5,\n",
    "           col=\"red\")\n",
    "}\n",
    "colors = rainbow(96)\n",
    "for(i in 1:12){\n",
    "    lines(unweighted_life$year,unweighted_life$unweighted_lifeExp, type=\"b\", lwd=1.5,\n",
    "           col=\"blue\")\n",
    "}\n",
    "title(\"average life expectancies with years\")\n",
    "legend(1955, 65, legend=c(\"weighted\", \"unweighted\"),\n",
    "       col=c(\"red\", \"blue\"), lty=1:1, cex=0.8)"
   ]
  },
  {
   "cell_type": "markdown",
   "metadata": {
    "deletable": false,
    "editable": false,
    "nbgrader": {
     "checksum": "a5bd3d78edcfe8e31899ede82ad6e02e",
     "grade": false,
     "grade_id": "cell-031174920a5c2077",
     "locked": true,
     "schema_version": 1,
     "solution": false
    }
   },
   "source": [
    "Note that there is an observable difference in the two averaging methods. Why does the weighting have the effect that it does? This is a rhetorical question, but it's very important to think about this type of comparison in statistical applications! "
   ]
  },
  {
   "cell_type": "markdown",
   "metadata": {
    "deletable": false,
    "editable": false,
    "nbgrader": {
     "checksum": "71fa3abc0cb7664c9356d8b93020b816",
     "grade": false,
     "grade_id": "cell-5b7d1d084c0b655d",
     "locked": true,
     "schema_version": 1,
     "solution": false
    }
   },
   "source": [
    "---\n",
    "\n",
    "# Problem 2\n",
    "\n",
    "Continuing the analysis of the `gapminder` data from problem 1, find the population-weighted average life expectancy for each continent. First, find the continent-level weights. That is, for country $i$ on continent $j$ at time $t$, find\n",
    "\n",
    "$$ \\text{weight}_{i,t} = \\frac{\\text{pop}_{i,t}}{\\sum_{i \\text{ in } j} \\text{pop}_{i,t}} $$\n",
    "\n",
    "Note that this can be done in a couple of different ways, though the easiest option without loading extra packages might be to use `aggregate`, `merge`, and `transform` again. Create a single data frame called `continent_weights` that includes all of the variables in the `gapminder` data frame, plus the variable `continent_weight`."
   ]
  },
  {
   "cell_type": "code",
   "execution_count": null,
   "metadata": {
    "collapsed": true,
    "deletable": false,
    "nbgrader": {
     "checksum": "007462a1a9173743c6be1fed930066bb",
     "grade": false,
     "grade_id": "cell-dd919e671bb69fc3",
     "locked": false,
     "schema_version": 1,
     "solution": true
    }
   },
   "outputs": [],
   "source": [
    "# YOUR CODE HERE\n",
    "library(\"gapminder\")\n",
    "data(\"gapminder\")\n",
    "x = gapminder\n",
    "sums = list()\n",
    "continents = levels(factor(x$continent))\n",
    "years = levels(factor(x$year))\n",
    "for (i in 1:length(continents)){\n",
    "    for (j in 1:length(years)){\n",
    "        sums = c(sums,sum(as.numeric(x$pop[which(x$year == years[j] & x$continent == continents[i])])))    }\n",
    "}\n",
    "\n",
    "continent_weight = list()\n",
    "for (i in 1:length(x$pop)){\n",
    "    temp1 = which(years == x$year[i])\n",
    "    temp2 = which(continents == x$continent[i])\n",
    "    temp = (temp2-1)*12 + temp1\n",
    "    continent_weight = c(continent_weight,(as.numeric(x$pop[i])/as.numeric(sums[temp])))\n",
    "}\n",
    "pop_weight = x\n",
    "pop_weight$continent_weight = NA\n",
    "for (i in 1:length(pop_weight$continent_weight)){pop_weight$continent_weight[i] = as.numeric(continent_weight[i]) }\n",
    "pop_weight$weights = NULL\n",
    "continent_weights = pop_weight\n",
    "\n",
    "#max value not matching after rounding"
   ]
  },
  {
   "cell_type": "markdown",
   "metadata": {
    "deletable": false,
    "editable": false,
    "nbgrader": {
     "checksum": "de124f1cf2398d25b2a1643e7c8adb4f",
     "grade": false,
     "grade_id": "cell-07fd4b3924c47baf",
     "locked": true,
     "schema_version": 1,
     "solution": false
    }
   },
   "source": [
    "Now check to make sure that the weights were calculated correctly."
   ]
  },
  {
   "cell_type": "code",
   "execution_count": null,
   "metadata": {
    "collapsed": true,
    "deletable": false,
    "editable": false,
    "nbgrader": {
     "checksum": "748698a6e8b81947b68251b2b13352f9",
     "grade": true,
     "grade_id": "cell-a0a3b5343d58d828",
     "locked": true,
     "points": 1,
     "schema_version": 1,
     "solution": false
    }
   },
   "outputs": [],
   "source": [
    "stopifnot(round(summary(round(continent_weights$continent_weight,digits=5)),digits = 5) == structure(c(9e-05, 0.00393, 0.01054, 0.03521, 0.02521, 0.83567\n",
    "), .Names = c(\"Min.\", \"1st Qu.\", \"Median\", \"Mean\", \"3rd Qu.\", \n",
    "\"Max.\"), class = c(\"summaryDefault\", \"table\")))"
   ]
  },
  {
   "cell_type": "markdown",
   "metadata": {
    "deletable": false,
    "editable": false,
    "nbgrader": {
     "checksum": "674ee662b2cfb7a53d2a72c3dff0988c",
     "grade": false,
     "grade_id": "cell-01664a1a8fa1651b",
     "locked": true,
     "schema_version": 1,
     "solution": false
    }
   },
   "source": [
    "Calculate the population-weighted averages for each continent. Create a data frame named `continent_weighted` with three variables: `year`, `continent`, and `avg_life` where each observation corresponds to the population-weighted average life expectancy for a year and continent. This data frame should have 60 observations."
   ]
  },
  {
   "cell_type": "code",
   "execution_count": null,
   "metadata": {
    "collapsed": true,
    "deletable": false,
    "nbgrader": {
     "checksum": "63f86a449b6f5e9cc05a8443ff5d040a",
     "grade": false,
     "grade_id": "cell-4f47046b85fef3d8",
     "locked": false,
     "schema_version": 1,
     "solution": true
    }
   },
   "outputs": [],
   "source": [
    "# YOUR CODE HERE\n",
    "avg_life = list()\n",
    "for (i in 1:length(continents)){\n",
    "    for (j in 1:length(years)){\n",
    "        avg_life = c(avg_life,sum(as.numeric(continent_weights$lifeExp[which(continent_weights$year == years[j] & continent_weights$continent == continents[i])])*as.numeric(continent_weights$continent_weight[which(continent_weights$year == years[j] & continent_weights$continent == continents[i])]) \n",
    "        ))}\n",
    "}\n",
    "year = as.list(rep(years,5))\n",
    "continent = as.list(rep(continents,12))\n",
    "continent_weighted = data.frame(year = numeric(0),continent=numeric(0),avg_life=numeric(0))\n",
    "for (i in 1:60){\n",
    "    continent_weighted[nrow(continent_weighted)+1,]=c(year[i],continent[i],avg_life[i])\n",
    "}\n",
    "\n",
    "#rounding error here as well"
   ]
  },
  {
   "cell_type": "markdown",
   "metadata": {},
   "source": [
    "Now check that the averages were calculated correctly."
   ]
  },
  {
   "cell_type": "code",
   "execution_count": null,
   "metadata": {
    "collapsed": true,
    "deletable": false,
    "editable": false,
    "nbgrader": {
     "checksum": "8e381490638c3f6a18707eea673d259e",
     "grade": true,
     "grade_id": "cell-67bf545baecdc549",
     "locked": true,
     "points": 1,
     "schema_version": 1,
     "solution": false
    }
   },
   "outputs": [],
   "source": [
    "stopifnot(round(summary(round(continent_weighted$avg_life,digits = 5)),digits = 5) == structure(c(38.79973, 54.39396, 67.87161, 64.33739, 72.71974, \n",
    "81.06215), .Names = c(\"Min.\", \"1st Qu.\", \"Median\", \"Mean\", \"3rd Qu.\", \n",
    "\"Max.\"), class = c(\"summaryDefault\", \"table\")))"
   ]
  },
  {
   "cell_type": "markdown",
   "metadata": {
    "deletable": false,
    "editable": false,
    "nbgrader": {
     "checksum": "a1ebada57ec8d31fd9330c018602e51f",
     "grade": false,
     "grade_id": "cell-b37144bddd56a4c5",
     "locked": true,
     "schema_version": 1,
     "solution": false
    }
   },
   "source": [
    "Finally, make a visualization that shows the change in life expectancy for each continent over time. Make sure the visualization allows the viewer to compare the trends between continents. In addition, include the global weighted average that you calculated in problem 1. Again, be sure to follow the best practices when making a plot, as outlined in lesson 6."
   ]
  },
  {
   "cell_type": "code",
   "execution_count": null,
   "metadata": {
    "collapsed": true,
    "deletable": false,
    "nbgrader": {
     "checksum": "e7e3617ebf06a6f2dc40e5a4158a4846",
     "grade": true,
     "grade_id": "cell-2d7c059ebc9b3001",
     "locked": false,
     "points": 4,
     "schema_version": 1,
     "solution": true
    }
   },
   "outputs": [],
   "source": [
    "# YOUR CODE HERE\n",
    "install.packages(\"ggplot2\")\n",
    "library(ggplot2)\n",
    "sp = ggplot(data = continent_weighted, aes(x = year, y = avg_life, fill = continent)) + geom_bar(stat = \"identity\", position = position_dodge()) + xlab(\"year\") + ylab(\"average life expectancies\") + ggtitle(\"                           average life expectancies with year\")\n",
    "sp"
   ]
  },
  {
   "cell_type": "markdown",
   "metadata": {
    "deletable": false,
    "editable": false,
    "nbgrader": {
     "checksum": "5e0d26871885b27e48e51004a7c80c4e",
     "grade": false,
     "grade_id": "cell-b66109107d713664",
     "locked": true,
     "schema_version": 1,
     "solution": false
    }
   },
   "source": [
    "---\n",
    "\n",
    "# Problem 3\n",
    "\n",
    "Using only the data from the year 2007 in the `gapminder` data frame, create a bar plot that includes the five countries from each continent with the highest life expectancies. This will end up including 22 countries, as the Oceania continent only has Australia and New Zealand. Make sure the visualization includes visual cues that allow the viewer to easily identify the continent of the country. Be sure to include all of the elements of a plot discussed in lesson 6. This will take a few steps to complete correctly. Depending on personal preference, Google may be necessary to discover little tweaks to be made. The lesson 7 discussion board is also available."
   ]
  },
  {
   "cell_type": "code",
   "execution_count": null,
   "metadata": {
    "collapsed": true,
    "deletable": false,
    "nbgrader": {
     "checksum": "b214498f227ccb5409df6ef5f0509b59",
     "grade": true,
     "grade_id": "cell-bf0421a0e1b94581",
     "locked": false,
     "points": 4,
     "schema_version": 1,
     "solution": true
    }
   },
   "outputs": [],
   "source": [
    "# YOUR CODE HERE\n",
    "library('gapminder')\n",
    "x = gapminder[which(gapminder$year == \"2007\"),c(1,2,3,4)]\n",
    "ocean = x[x$continent == \"Oceania\",]\n",
    "asia = x[x$continent == \"Asia\",]\n",
    "asia = asia[order(asia$lifeExp,decreasing = T)[1:5],]\n",
    "eur = x[x$continent == \"Europe\",]\n",
    "eur = eur[order(eur$lifeExp,decreasing = T)[1:5],]\n",
    "africa = x[x$continent == \"Africa\",]\n",
    "africa = africa[order(africa$lifeExp,decreasing = T)[1:5],]\n",
    "america = x[x$continent == \"Americas\",]\n",
    "america = america[order(america$lifeExp,decreasing = T)[1:5],]\n",
    "data1 = merge(ocean,asia,all = TRUE)\n",
    "data2 = merge(eur,africa,all = TRUE)\n",
    "data3 = merge(data2,america,all = TRUE)\n",
    "data = merge(data1,data3,all=TRUE)\n",
    "\n",
    "install.packages(\"ggplot2\")\n",
    "library(ggplot2)\n",
    "sp = ggplot(data, aes(x=country, y=lifeExp, fill = continent)) + geom_bar(stat = \"Identity\") + ylab(\"Life expentancy\") + xlab(\"Country\") + ggtitle(\"         Life expectancies for different countries\")\n",
    "sp + theme(axis.text.x = element_text(angle = 90, hjust = 1))\n"
   ]
  },
  {
   "cell_type": "markdown",
   "metadata": {
    "deletable": false,
    "editable": false,
    "nbgrader": {
     "checksum": "02c0e7813d045f41324f823519deb010",
     "grade": false,
     "grade_id": "cell-4e82b1c36173aa4a",
     "locked": true,
     "schema_version": 1,
     "solution": false
    }
   },
   "source": [
    "---\n",
    "\n",
    "# Problem 4\n",
    "\n",
    "Using the `NBAStandings1e` and `NBAStandings2016` datasets in the `Lock5Data` package, create a slopegraph to show how the win percentage (`WinPct`) for each team changed between the 2010-2011 and 2015-2016 seasons. Remember to clearly label each team for both seasons, and offset the labels from each other so that all of the team names are readable. In addition, some teams changed names and cities over the five year span of the data set. Account for this by removing the old team name from the dataset for the 2010-2011 season. Once again, all plot elements covered in lesson 6 should be included."
   ]
  },
  {
   "cell_type": "code",
   "execution_count": null,
   "metadata": {
    "collapsed": true,
    "deletable": false,
    "nbgrader": {
     "checksum": "527f87647df07e24fed9b2f70347924e",
     "grade": true,
     "grade_id": "cell-1e1ac4e222a785bb",
     "locked": false,
     "points": 4,
     "schema_version": 1,
     "solution": true
    }
   },
   "outputs": [],
   "source": [
    "# Load the data\n",
    "library(Lock5Data)\n",
    "data(\"NBAStandings1e\")\n",
    "data(\"NBAStandings2016\")\n",
    "\n",
    "# YOUR CODE HERE\n",
    "stop(\"Not Implemented\")"
   ]
  }
 ],
 "metadata": {
  "kernelspec": {
   "display_name": "R",
   "language": "R",
   "name": "ir"
  },
  "language_info": {
   "codemirror_mode": "r",
   "file_extension": ".r",
   "mimetype": "text/x-r-source",
   "name": "R",
   "pygments_lexer": "r",
   "version": "3.4.2"
  }
 },
 "nbformat": 4,
 "nbformat_minor": 2
}
