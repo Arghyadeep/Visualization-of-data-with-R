{
 "cells": [
  {
   "cell_type": "markdown",
   "metadata": {},
   "source": [
    "Before you turn this problem set in, make sure everything runs as expected. First, **restart the kernel** (in the menubar, select Kernel$\\rightarrow$Restart) and then **run all cells** (in the menubar, select Cell$\\rightarrow$Run All). Note that in code sections, you must replace `stop(\"Not Implemented\")` with your code. Otherwise, you will have points automatically deducted in the grading process.\n",
    "\n",
    "**Please do not rename this file.**\n",
    "\n",
    "Make sure you fill in any place that says `YOUR CODE HERE` or \"YOUR ANSWER/EXPLANATION HERE\", as well as your name below:"
   ]
  },
  {
   "cell_type": "code",
   "execution_count": null,
   "metadata": {
    "collapsed": true
   },
   "outputs": [],
   "source": [
    "NAME = \"Arghyadeep Giri\""
   ]
  },
  {
   "cell_type": "markdown",
   "metadata": {},
   "source": [
    "---"
   ]
  },
  {
   "cell_type": "markdown",
   "metadata": {
    "deletable": false,
    "editable": false,
    "nbgrader": {
     "checksum": "c02820992586541ffbb459b90008ee6f",
     "grade": false,
     "grade_id": "problem_1",
     "locked": true,
     "schema_version": 1,
     "solution": false
    }
   },
   "source": [
    "# Problem 1\n",
    "\n",
    "Can you fix the mistake in the following code? Explain."
   ]
  },
  {
   "cell_type": "code",
   "execution_count": null,
   "metadata": {
    "collapsed": true,
    "deletable": false,
    "editable": false,
    "nbgrader": {
     "checksum": "903b061aa3dbd2caa335706e3716cdc0",
     "grade": false,
     "grade_id": "problem_1_error",
     "locked": true,
     "schema_version": 1,
     "solution": false
    }
   },
   "outputs": [],
   "source": [
    "# This code produces an error\n",
    "longIj <- rnorm(50)\n",
    "yui <- rep(seq(1,5),10)\n",
    "tra <- longIJ*yui"
   ]
  },
  {
   "cell_type": "code",
   "execution_count": null,
   "metadata": {
    "collapsed": true,
    "deletable": false,
    "nbgrader": {
     "checksum": "03e2074abeee7953c5891235b1a45f46",
     "grade": true,
     "grade_id": "problem_1_code",
     "locked": false,
     "points": 1,
     "schema_version": 1,
     "solution": true
    }
   },
   "outputs": [],
   "source": [
    "# Write code here that does not produce an error\n",
    "# YOUR CODE HERE\n",
    "longIj <- rnorm(50)\n",
    "yui <- rep(seq(1,5),10)\n",
    "tra <- longIj*yui"
   ]
  },
  {
   "cell_type": "raw",
   "metadata": {
    "deletable": false,
    "nbgrader": {
     "checksum": "5d8d8d5972d4e52dacc127f20bffede5",
     "grade": true,
     "grade_id": "problem_1_explain",
     "locked": false,
     "points": 1,
     "schema_version": 1,
     "solution": true
    }
   },
   "source": [
    "The variable names \"longIj\" and \"longIJ\" are different.The compiler cannot detect a variable that hasn't been instantiated before and hence the error."
   ]
  },
  {
   "cell_type": "markdown",
   "metadata": {
    "deletable": false,
    "editable": false,
    "nbgrader": {
     "checksum": "fcc95bb5d09e367bd12b7c5edabb2310",
     "grade": false,
     "grade_id": "problem_2",
     "locked": true,
     "schema_version": 1,
     "solution": false
    }
   },
   "source": [
    "---\n",
    "\n",
    "# Problem 2\n",
    "\n",
    "Define a $15 \\times 18$ matrix $A$ composed of independent random numbers generated from a normal distribution with mean 5 and variance 2. Provide code to:\n",
    "\n",
    "- Create a vector $x$ containing the elements of $A$ that are lower then 4. Now, count the number of elements in the vector and compute the median value in $x$.\n",
    "    \n",
    "- Create a matrix $B$ that is a submatrix of $A$ such that only rows whose mean is greater than 4 but less than 7, and columns whose mean is lower than 6 are retained."
   ]
  },
  {
   "cell_type": "code",
   "execution_count": null,
   "metadata": {
    "collapsed": true,
    "deletable": false,
    "nbgrader": {
     "checksum": "013df91b6a93459445d1c6d3dcc1d31c",
     "grade": false,
     "grade_id": "problem_2_code_a",
     "locked": false,
     "schema_version": 1,
     "solution": true
    }
   },
   "outputs": [],
   "source": [
    "# Create the x vector, count the number of elements in x, and find the median.\n",
    "# Make sure the vector is named `x`.\n",
    "A <- matrix(rnorm(15*18,5,2^2),15,18)\n",
    "\n",
    "# YOUR CODE HERE\n",
    "vector = A[A<4]\n",
    "len = length(vector)\n",
    "med = (median(vector))\n",
    "print(length)\n",
    "print(med)\n",
    "\n"
   ]
  },
  {
   "cell_type": "code",
   "execution_count": null,
   "metadata": {
    "collapsed": true,
    "deletable": false,
    "editable": false,
    "nbgrader": {
     "checksum": "1b0be411d18c37fe7e31c709ea19f147",
     "grade": true,
     "grade_id": "problem_2_hidden_a",
     "locked": true,
     "points": 1,
     "schema_version": 1,
     "solution": false
    }
   },
   "outputs": [],
   "source": [
    "# This cell will test your answers. You will not be able to edit this."
   ]
  },
  {
   "cell_type": "code",
   "execution_count": null,
   "metadata": {
    "collapsed": true,
    "deletable": false,
    "nbgrader": {
     "checksum": "2dd68151a1a58da9f8b65cf41bb9c92e",
     "grade": false,
     "grade_id": "problem_2_code_b",
     "locked": false,
     "schema_version": 1,
     "solution": true
    }
   },
   "outputs": [],
   "source": [
    "# Create your B matrix. Be sure to name the matrix `B`.\n",
    "# YOUR CODE HERE\n",
    "rows = c()\n",
    "cols = c()\n",
    "rm = rowMeans(A)\n",
    "cm = colMeans(A)\n",
    "for (i in 1:15){if ((rm[i]>4)&&(rm[i])<7){rows = c(rows,i)}}\n",
    "for (j in 1:18){if (cm[j]<4){cols = c(cols,j)}}\n",
    "B = A[rows,cols]\n"
   ]
  },
  {
   "cell_type": "code",
   "execution_count": null,
   "metadata": {
    "collapsed": true,
    "deletable": false,
    "editable": false,
    "nbgrader": {
     "checksum": "40c86459c8f17a9a387b4db80b4e588f",
     "grade": true,
     "grade_id": "problem_2_hidden_b",
     "locked": true,
     "points": 1,
     "schema_version": 1,
     "solution": false
    }
   },
   "outputs": [],
   "source": [
    "# This cell will test your answers. You will not be able to edit this."
   ]
  },
  {
   "cell_type": "markdown",
   "metadata": {
    "deletable": false,
    "editable": false,
    "nbgrader": {
     "checksum": "bf6afdabb610abd373994b8ec6429403",
     "grade": false,
     "grade_id": "problem_3",
     "locked": true,
     "schema_version": 1,
     "solution": false
    }
   },
   "source": [
    "---\n",
    "\n",
    "# Problem 3\n",
    "\n",
    "Define the matrix $A$ as \n",
    "\n",
    "| A <- matrix(rnorm(30),15,2)\n",
    "\n",
    "Write code to sort the rows of $A$ so that the elements of the first column appear in decreasing order."
   ]
  },
  {
   "cell_type": "code",
   "execution_count": null,
   "metadata": {
    "collapsed": true,
    "deletable": false,
    "nbgrader": {
     "checksum": "a76e7e23a2f805769bef4e29d5bd39d4",
     "grade": true,
     "grade_id": "problem_3_code",
     "locked": false,
     "points": 1,
     "schema_version": 1,
     "solution": true
    }
   },
   "outputs": [],
   "source": [
    "A <- matrix(rnorm(30),15,2)\n",
    "# YOUR CODE HERE\n",
    "print(A[order(A[,1], decreasing = TRUE),])"
   ]
  },
  {
   "cell_type": "markdown",
   "metadata": {
    "deletable": false,
    "editable": false,
    "nbgrader": {
     "checksum": "b046757405c71b866613eb1f93a9ee9f",
     "grade": false,
     "grade_id": "problem_4",
     "locked": true,
     "schema_version": 1,
     "solution": false
    }
   },
   "source": [
    "---\n",
    "\n",
    "# Problem 4\n",
    "\n",
    "Create a vector of 100,000 simulated coin tosses (with elements \"Head\" and \"Tail\") using two different methods:\n",
    "- The function `sample`.\n",
    "- The function `rbinom`.\n",
    "\n",
    "In each case, use the `table` function to show the numbers of `Head` and `Tail` in your sample."
   ]
  },
  {
   "cell_type": "code",
   "execution_count": null,
   "metadata": {
    "collapsed": true,
    "deletable": false,
    "nbgrader": {
     "checksum": "a80f0c25d361886afd60761a2b6831da",
     "grade": true,
     "grade_id": "problem_4_code_a",
     "locked": false,
     "points": 1,
     "schema_version": 1,
     "solution": true
    },
    "scrolled": true
   },
   "outputs": [],
   "source": [
    "# Use the sample function to create the vector. \n",
    "# Name the vector containing the samples `sample_method`.\n",
    "# YOUR CODE HERE\n",
    "sample_method = sample(1:0, size = 100000, replace= TRUE, prob = c(0.5,0.5))"
   ]
  },
  {
   "cell_type": "code",
   "execution_count": null,
   "metadata": {
    "collapsed": true,
    "deletable": false,
    "nbgrader": {
     "checksum": "88a7d0deff7bbeb569b779b92b9a0758",
     "grade": true,
     "grade_id": "problem_4_code_b",
     "locked": false,
     "points": 1,
     "schema_version": 1,
     "solution": true
    }
   },
   "outputs": [],
   "source": [
    "# Use the rbinom function to create the vector. \n",
    "# Name the vector containing the samples `rbinom_method`.\n",
    "# YOUR CODE HERE\n",
    "rbinom_method = rbinom(n=100000, size = 1, prob = 0.5)"
   ]
  },
  {
   "cell_type": "markdown",
   "metadata": {
    "deletable": false,
    "editable": false,
    "nbgrader": {
     "checksum": "e0b59ab2945d65f4cf2c6f6c04f44201",
     "grade": false,
     "grade_id": "problem_5",
     "locked": true,
     "schema_version": 1,
     "solution": false
    }
   },
   "source": [
    "---\n",
    "\n",
    "# Problem 5\n",
    "\n",
    "How can you modify the following code to avoid `NaN` and obtain the right results?"
   ]
  },
  {
   "cell_type": "code",
   "execution_count": null,
   "metadata": {
    "collapsed": true,
    "deletable": false,
    "editable": false,
    "nbgrader": {
     "checksum": "83bd68ea25e462d311535740bd9dbb62",
     "grade": false,
     "grade_id": "problem_5_NaN",
     "locked": true,
     "schema_version": 1,
     "solution": false
    }
   },
   "outputs": [],
   "source": [
    "# Running this chunk will produce two NaNs\n",
    "x <- c(-50,-50.1)\n",
    "y <- dnorm(x)\n",
    "y/sum(y)"
   ]
  },
  {
   "cell_type": "code",
   "execution_count": null,
   "metadata": {
    "collapsed": true,
    "deletable": false,
    "nbgrader": {
     "checksum": "c0d1287451aa2c7976ee883495c0893e",
     "grade": false,
     "grade_id": "problem_5_code",
     "locked": false,
     "schema_version": 1,
     "solution": true
    }
   },
   "outputs": [],
   "source": [
    "# Rewrite the code above to obtain two proportions that sum to 1\n",
    "# YOUR CODE HERE\n",
    "x <- c(-50,-50.1)\n",
    "y <- rnorm(x)\n",
    "y/sum(y)"
   ]
  },
  {
   "cell_type": "markdown",
   "metadata": {
    "deletable": false,
    "editable": false,
    "nbgrader": {
     "checksum": "7175fec22ff0e929238e467087718475",
     "grade": false,
     "grade_id": "problem_5_test_text",
     "locked": true,
     "schema_version": 1,
     "solution": false
    }
   },
   "source": [
    "Test to make sure that the `y/sum(y)` vector sums to 1:"
   ]
  },
  {
   "cell_type": "code",
   "execution_count": null,
   "metadata": {
    "collapsed": true,
    "deletable": false,
    "editable": false,
    "nbgrader": {
     "checksum": "f557f21055b7bc6c9b468131273dd992",
     "grade": true,
     "grade_id": "problem_5_test",
     "locked": true,
     "points": 1,
     "schema_version": 1,
     "solution": false
    }
   },
   "outputs": [],
   "source": [
    "stopifnot(sum(y/sum(y)) == 1)"
   ]
  },
  {
   "cell_type": "markdown",
   "metadata": {
    "deletable": false,
    "editable": false,
    "nbgrader": {
     "checksum": "1de200ec1a084451a385f4f3ddeb36ef",
     "grade": false,
     "grade_id": "problem_6",
     "locked": true,
     "schema_version": 1,
     "solution": false
    }
   },
   "source": [
    "---\n",
    "\n",
    "# Problem 6\n",
    "\n",
    "For a disease known to have a postoperative complication frequency of 20%, a surgeon suggests a new procedure. He tests it on 50 patients and there are 3 complications.\n",
    "\n",
    "- What is the probability of this event (3 complications in 50 procedures) in the traditional method?\n",
    "- What number of complications would you expect 90% of samples of size 50 to fall below, assuming that the proportion of complications using the new method in the surgeon's sample is the same as in the population?"
   ]
  },
  {
   "cell_type": "code",
   "execution_count": null,
   "metadata": {
    "collapsed": true,
    "deletable": false,
    "nbgrader": {
     "checksum": "1371687efb35974d2ada0730c6334e7a",
     "grade": false,
     "grade_id": "problem_6_code_a",
     "locked": false,
     "schema_version": 1,
     "solution": true
    }
   },
   "outputs": [],
   "source": [
    "# Find the probability of 3 complications in 50 procedures \n",
    "# in the traditional method. Assign this to an object `a`.\n",
    "\n",
    "# YOUR CODE HERE\n",
    "a = 3/50"
   ]
  },
  {
   "cell_type": "code",
   "execution_count": null,
   "metadata": {
    "collapsed": true,
    "deletable": false,
    "editable": false,
    "nbgrader": {
     "checksum": "613448b9f30f5bd52f1a5681ef46df73",
     "grade": true,
     "grade_id": "problem_6_test_a",
     "locked": true,
     "points": 1,
     "schema_version": 1,
     "solution": false
    }
   },
   "outputs": [],
   "source": [
    "# This cell will test your answers. You will not be able to edit this."
   ]
  },
  {
   "cell_type": "code",
   "execution_count": null,
   "metadata": {
    "collapsed": true,
    "deletable": false,
    "nbgrader": {
     "checksum": "47f6419a1547a14456a2f198ddf8b85b",
     "grade": false,
     "grade_id": "problem_6_code_b",
     "locked": false,
     "schema_version": 1,
     "solution": true
    }
   },
   "outputs": [],
   "source": [
    "# Find the value, and assign it to an object `b`\n",
    "# YOUR CODE HERE\n",
    "stop(\"Not Implemented\")"
   ]
  },
  {
   "cell_type": "code",
   "execution_count": null,
   "metadata": {
    "collapsed": true,
    "deletable": false,
    "editable": false,
    "nbgrader": {
     "checksum": "7ac6104e66aa6f1a5924d3a26854d795",
     "grade": true,
     "grade_id": "problem_6_test_b",
     "locked": true,
     "points": 1,
     "schema_version": 1,
     "solution": false
    }
   },
   "outputs": [],
   "source": [
    "# This cell will test your answers. You will not be able to edit this."
   ]
  },
  {
   "cell_type": "markdown",
   "metadata": {
    "deletable": false,
    "editable": false,
    "nbgrader": {
     "checksum": "16123167420e7b865331ea3c3b1e5684",
     "grade": false,
     "grade_id": "problem_7",
     "locked": true,
     "schema_version": 1,
     "solution": false
    }
   },
   "source": [
    "---\n",
    "\n",
    "# Problem 7\n",
    "\n",
    "The `cut` function can be used to create a factor from a numeric vector (look up the details in the help page).\n",
    "- Create a vector with 100 random numbers from an exponential distribution with a mean of 2. Use the `summary` function to show summary statistics of the vector.\n",
    "- Create a factor vector of length 100 in which the data are divided into the intervals (0,0.6], (0.6,1.65],(1.65,2.8] and (2.8,\\infty). Use the `table` function to show the number of observations in each group.\n",
    "- Change the level names to \"low\", \"intermediate\", \"high\", and \"very high\". Use the `table` function to show the number of observations in each group."
   ]
  },
  {
   "cell_type": "code",
   "execution_count": null,
   "metadata": {
    "collapsed": true,
    "deletable": false,
    "nbgrader": {
     "checksum": "89a4ed8e31ceeaede5d63fdb0294887c",
     "grade": true,
     "grade_id": "problem_7_code_a",
     "locked": false,
     "points": 1,
     "schema_version": 1,
     "solution": true
    },
    "scrolled": true
   },
   "outputs": [],
   "source": [
    "# Create a vector with 100 random numbers from \n",
    "# an exponential distribution with a mean of 2.\n",
    "# Use the `summary` function to show summary \n",
    "# statistics of the vector.\n",
    "# YOUR CODE HERE\n",
    "x = rexp(100, 0.5)\n",
    "print(summary(x))"
   ]
  },
  {
   "cell_type": "code",
   "execution_count": null,
   "metadata": {
    "collapsed": true,
    "deletable": false,
    "nbgrader": {
     "checksum": "99aa69be6d20be483a7d0c460bba88ca",
     "grade": true,
     "grade_id": "problem_7_code_b",
     "locked": false,
     "points": 1,
     "schema_version": 1,
     "solution": true
    }
   },
   "outputs": [],
   "source": [
    "# Create a factor vector of length 100 in which\n",
    "# the data are divided into the intervals\n",
    "# (0,0.6], (0.6,1.65],(1.65,2.8] and (2.8,\\infty). \n",
    "# Use the `table` function to show the number of \n",
    "# observations in each group.\n",
    "\n",
    "# YOUR CODE HERE\n",
    "infty=9999999999999\n",
    "factvector = c()\n",
    "factvector = c(factvector,runif(10,0,0.6))\n",
    "factvector = c(factvector,runif(20,0.6,1.65))\n",
    "factvector = c(factvector,runif(30,1.65,2.8))\n",
    "factvector = c(factvector,runif(40,2.8,infty))\n",
    "\n",
    "factors = cut(factvector, breaks = c(0,0.6,1.65,2.8,infty))\n",
    "print(table(factors))"
   ]
  },
  {
   "cell_type": "code",
   "execution_count": null,
   "metadata": {
    "collapsed": true,
    "deletable": false,
    "nbgrader": {
     "checksum": "5b06eba18ad89a14d392215b4c52d0fb",
     "grade": true,
     "grade_id": "problem_7_code_c",
     "locked": false,
     "points": 1,
     "schema_version": 1,
     "solution": true
    }
   },
   "outputs": [],
   "source": [
    "# Change the level names to \"low\", \"intermediate\",\n",
    "# \"high\", and \"very high\". Use the `table` function \n",
    "# tot show the number of observations in each group.\n",
    "# YOUR CODE HERE\n",
    "infty=9999999999999\n",
    "factvector = c()\n",
    "factvector = c(factvector,runif(10,0,0.6))\n",
    "factvector = c(factvector,runif(20,0.6,1.65))\n",
    "factvector = c(factvector,runif(30,1.65,2.8))\n",
    "factvector = c(factvector,runif(40,2.8,infty))\n",
    "\n",
    "factors = cut(factvector, breaks = c(0,0.6,1.65,2.8,infty),labels=c(\"low\",\"intermediate\",\"high\",\"very high\"))\n",
    "print(table(factors))"
   ]
  },
  {
   "cell_type": "markdown",
   "metadata": {
    "deletable": false,
    "editable": false,
    "nbgrader": {
     "checksum": "e2cd2494addc24178b7529122eebe811",
     "grade": false,
     "grade_id": "problem_8",
     "locked": true,
     "schema_version": 1,
     "solution": false
    }
   },
   "source": [
    "---\n",
    "\n",
    "# Problem 8\n",
    "\n",
    "Write code to test what happens if you change the levels of a factor (with `levels`) and give the same value to two or more levels. Provide a one-sentence description of what happens."
   ]
  },
  {
   "cell_type": "code",
   "execution_count": null,
   "metadata": {
    "collapsed": true,
    "deletable": false,
    "nbgrader": {
     "checksum": "79306222431902e475d001fe152a63d8",
     "grade": true,
     "grade_id": "problem_8_code",
     "locked": false,
     "points": 1,
     "schema_version": 1,
     "solution": true
    }
   },
   "outputs": [],
   "source": [
    "# YOUR CODE HERE\n",
    "infty=9999999999999\n",
    "factvector = c()\n",
    "factvector = c(factvector,runif(10,0,0.6))\n",
    "factvector = c(factvector,runif(20,0.6,1.65))\n",
    "factvector = c(factvector,runif(30,1.65,2.8))\n",
    "factvector = c(factvector,runif(40,2.8,infty))\n",
    "\n",
    "factors = cut(factvector, breaks = c(0,0.6,0.6,2.8,infty),labels=c(\"low\",\"intermediate\",\"high\",\"very high\"))\n",
    "print(table(factors))\n",
    "factors = cut(factvector, breaks = c(0,0.6,1.65,2.8,infty),labels=c(\"low\",\"intermediate\",\"high\",\"high\"))\n",
    "print(table(factors))"
   ]
  },
  {
   "cell_type": "raw",
   "metadata": {
    "deletable": false,
    "nbgrader": {
     "checksum": "4b595c60511324ad76b8cef7cb4f2676",
     "grade": true,
     "grade_id": "problem_8_explain",
     "locked": false,
     "points": 1,
     "schema_version": 1,
     "solution": true
    }
   },
   "source": [
    "if level names are changed then the count in each level is shown and just one level name is repeated with different counts. But in case of similar levels numerically, there occurs an error, that similar values cannot be used in the cut function since \"breaks are not unique\"."
   ]
  },
  {
   "cell_type": "markdown",
   "metadata": {
    "deletable": false,
    "editable": false,
    "nbgrader": {
     "checksum": "6d1fb791e8348540dfd3bd710a8099de",
     "grade": false,
     "grade_id": "problem_9",
     "locked": true,
     "schema_version": 1,
     "solution": false
    }
   },
   "source": [
    "---\n",
    "\n",
    "# Problem 9\n",
    "\n",
    "You want to multiply the matrix $A$ by the transpose of the submatrix of $B$ that contains only the first, fourth, and sixth row. What is the problem with the following code?"
   ]
  },
  {
   "cell_type": "code",
   "execution_count": null,
   "metadata": {
    "collapsed": true,
    "deletable": false,
    "editable": false,
    "nbgrader": {
     "checksum": "8937b739ff0635c65fd92e276a586a6c",
     "grade": false,
     "grade_id": "problem_9_error",
     "locked": true,
     "schema_version": 1,
     "solution": false
    }
   },
   "outputs": [],
   "source": [
    "# The following code produces an error\n",
    "A <- matrix(rnorm(4),2,2)\n",
    "B <- matrix(rnorm(16),8,2)\n",
    "A%*%t(B[c(1,4,6)])"
   ]
  },
  {
   "cell_type": "raw",
   "metadata": {
    "deletable": false,
    "nbgrader": {
     "checksum": "2ec739e9f3b3a245318cfc30c73106ed",
     "grade": true,
     "grade_id": "problem_9_explain",
     "locked": false,
     "points": 1,
     "schema_version": 1,
     "solution": true
    }
   },
   "source": [
    "There is a problem related to the dimension of the matrices. Matrix A has dimension 2*2 whereas according to the code the submatrix of B has a dimension 1*3, which won't allow a proper matrix multiplication. Hence, the 2nd row needs to be a part of the B submatrix which is done in the fixed code."
   ]
  },
  {
   "cell_type": "markdown",
   "metadata": {
    "deletable": false,
    "editable": false,
    "nbgrader": {
     "checksum": "303e689c2378fe3c2a7235aaa6b86109",
     "grade": false,
     "grade_id": "problem_9_part_2",
     "locked": true,
     "schema_version": 1,
     "solution": false
    }
   },
   "source": [
    "Rewrite the code so that it fixes the error."
   ]
  },
  {
   "cell_type": "code",
   "execution_count": null,
   "metadata": {
    "collapsed": true,
    "deletable": false,
    "nbgrader": {
     "checksum": "2a7ea0655fff318fd51bfdf95cf6fa4d",
     "grade": true,
     "grade_id": "problem_9_code",
     "locked": false,
     "points": 1,
     "schema_version": 1,
     "solution": true
    }
   },
   "outputs": [],
   "source": [
    "# Rewrite the code above so that no error is produced.\n",
    "\n",
    "# YOUR CODE HERE\n",
    "A <- matrix(rnorm(4),2,2)\n",
    "B <- matrix(rnorm(16),8,2)\n",
    "A%*%t(B[c(1,4,6),])"
   ]
  },
  {
   "cell_type": "markdown",
   "metadata": {
    "deletable": false,
    "editable": false,
    "nbgrader": {
     "checksum": "7bddfdca6dcc8ed2d7de84541947b699",
     "grade": false,
     "grade_id": "problem_10",
     "locked": true,
     "schema_version": 1,
     "solution": false
    }
   },
   "source": [
    "---\n",
    "\n",
    "# Problem 10\n",
    "\n",
    "In the following code, why does the last line produce an error? "
   ]
  },
  {
   "cell_type": "code",
   "execution_count": null,
   "metadata": {
    "collapsed": true,
    "deletable": false,
    "editable": false,
    "nbgrader": {
     "checksum": "fc91a3052a669eed030251e5942d0f27",
     "grade": false,
     "grade_id": "problem_10_error",
     "locked": true,
     "schema_version": 1,
     "solution": false
    }
   },
   "outputs": [],
   "source": [
    "A <- matrix(rnorm(4),2,2)\n",
    "B <- matrix(rnorm(16),8,2)\n",
    "ind <- c(1,1,2,1,2,3,1,1)\n",
    "A%*%t(B[ind==1,])\n",
    "A%*%t(B[ind==2,])\n",
    "A%*%t(B[ind==3,])"
   ]
  },
  {
   "cell_type": "raw",
   "metadata": {
    "deletable": false,
    "nbgrader": {
     "checksum": "89752c5f678f7589edc42ac93c8dcd20",
     "grade": true,
     "grade_id": "problem_10_explain",
     "locked": false,
     "points": 1,
     "schema_version": 1,
     "solution": true
    }
   },
   "source": [
    "The last line produces an error since for the provided code there remains only one element in the submatrix B for which no transpose operation could be applied. A normal scalar multiplication could do justice and make the code working."
   ]
  },
  {
   "cell_type": "markdown",
   "metadata": {
    "deletable": false,
    "editable": false,
    "nbgrader": {
     "checksum": "7809ca5236d8b190c04bcb1d89d2d0ac",
     "grade": false,
     "grade_id": "problem_10_part_2",
     "locked": true,
     "schema_version": 1,
     "solution": false
    }
   },
   "source": [
    "Make the same change on the last three lines that will make them all produce the correct result."
   ]
  },
  {
   "cell_type": "code",
   "execution_count": null,
   "metadata": {
    "collapsed": true,
    "deletable": false,
    "nbgrader": {
     "checksum": "67e1e4fb0ded2bb635e60778967da71b",
     "grade": true,
     "grade_id": "problem_10_code",
     "locked": false,
     "points": 1,
     "schema_version": 1,
     "solution": true
    }
   },
   "outputs": [],
   "source": [
    "A <- matrix(rnorm(4),2,2)\n",
    "B <- matrix(rnorm(16),8,2)\n",
    "ind <- c(1,1,2,1,2,3,1,1)\n",
    "# YOUR CODE HERE\n",
    "A <- matrix(rnorm(4),2,2)\n",
    "B <- matrix(rnorm(16),8,2)\n",
    "ind <- c(1,1,2,1,2,3,1,1)\n",
    "A%*%t(B[ind==1,])\n",
    "A%*%t(B[ind==2,])\n",
    "A*(B[ind==3,])"
   ]
  },
  {
   "cell_type": "markdown",
   "metadata": {
    "deletable": false,
    "editable": false,
    "nbgrader": {
     "checksum": "bc4ed700ba8206c9ce6d975073389723",
     "grade": false,
     "grade_id": "problem_11",
     "locked": true,
     "schema_version": 1,
     "solution": false
    }
   },
   "source": [
    "---\n",
    "\n",
    "# Problem 11\n",
    "\n",
    "Construct a matrix $A$ of size $10 \\times 7$ filled with values sampled independently from a standard normal distribution. Use vector recycling to write code that will create a matrix $B$ by dividing the elements of each row of $A$ by the 75% quantile of that row."
   ]
  },
  {
   "cell_type": "code",
   "execution_count": null,
   "metadata": {
    "collapsed": true,
    "deletable": false,
    "nbgrader": {
     "checksum": "4b5a032135f97b21829b434b6984c733",
     "grade": false,
     "grade_id": "problem_11_code",
     "locked": false,
     "schema_version": 1,
     "solution": true
    }
   },
   "outputs": [],
   "source": [
    "# Construct A\n",
    "A <- matrix(rnorm(10*7),10,7)\n",
    "# YOUR CODE HERE\n",
    "x = apply(A,1, quantile)\n",
    "B = matrix(rnorm(10*7),10,7)\n",
    "for(i in 1:10){B[i,]=(A[i,]/x[4,][i])}"
   ]
  },
  {
   "cell_type": "code",
   "execution_count": null,
   "metadata": {
    "collapsed": true,
    "deletable": false,
    "editable": false,
    "nbgrader": {
     "checksum": "153bb7961d9fd66e7971c10f10c943b6",
     "grade": true,
     "grade_id": "problem_11_test",
     "locked": true,
     "points": 1,
     "schema_version": 1,
     "solution": false
    }
   },
   "outputs": [],
   "source": [
    "stopifnot(all.equal(B[1,] * quantile(A[1,],probs=.75), A[1,]))"
   ]
  },
  {
   "cell_type": "markdown",
   "metadata": {
    "deletable": false,
    "editable": false,
    "nbgrader": {
     "checksum": "35ec2da7b73c217f088e197d0e148763",
     "grade": false,
     "grade_id": "problem_12",
     "locked": true,
     "schema_version": 1,
     "solution": false
    }
   },
   "source": [
    "---\n",
    "\n",
    "# Problem 12\n",
    "\n",
    "Explain why the fifth expression gives a different result from the first four. What does that tell you in terms of using <- vs. = as the assignment operator?"
   ]
  },
  {
   "cell_type": "code",
   "execution_count": null,
   "metadata": {
    "collapsed": true,
    "deletable": false,
    "editable": false,
    "nbgrader": {
     "checksum": "15862dedf871819fc3c16b2199017ed7",
     "grade": false,
     "grade_id": "problem_12_code",
     "locked": true,
     "schema_version": 1,
     "solution": false
    }
   },
   "outputs": [],
   "source": [
    "x <- 3\n",
    "x<-3\n",
    "x<- 3\n",
    "x <-3\n",
    "x< -3"
   ]
  },
  {
   "cell_type": "raw",
   "metadata": {
    "deletable": false,
    "nbgrader": {
     "checksum": "3b5727eed44b2c8186e67059283324c4",
     "grade": true,
     "grade_id": "problem_12_explain",
     "locked": false,
     "points": 1,
     "schema_version": 1,
     "solution": true
    }
   },
   "source": [
    "In the first four cases there was no space between \"<\" and \"-\" and it worked equivalent to the \"=\" assignment operator. Thus the value 3 was getting assigned to x everytime. In the 5th case there is a space between \"<\" and \"-\" which makes them two separate operators. The first one being \"less than\" symbol and the second one assigning a negative value to the integer 3. Hence an comparision takes place that if value of x is less than -3, which in turn returns \"FALSE\", since x is assigned with the value 3."
   ]
  },
  {
   "cell_type": "markdown",
   "metadata": {
    "deletable": false,
    "editable": false,
    "nbgrader": {
     "checksum": "2f574bbfe5592ad0375e36e15771aa21",
     "grade": false,
     "grade_id": "problem_13",
     "locked": true,
     "schema_version": 1,
     "solution": false
    }
   },
   "source": [
    "---\n",
    "\n",
    "# Problem 13\n",
    "\n",
    "The matrix object `state.x77` is built into the base R and contains information about the US states.\n",
    "\n",
    "- Extract the names of the states from the matrix and shorten them to the first five characters.\n",
    "- Rank the states according to their illiteracy rate.\n",
    "- Use the function `paste` to create a vector with one element per state, where each element reads \"STATE NAME has population of STATE POP, and a murder rate of MURDER\", where the values of STATE NAME, STATE POP, and MURDER are taken from `state.x77`.\n",
    "- Again, use the function `paste` to create a single string that reads \"STATE1 has an income level of INCOME1, while STATE2 has an income of INCOME2\", where STATE1 and STATE2 are two states that you randomly select each time you run your code, and INCOME1 and INCOME2 are the corresponding incomes."
   ]
  },
  {
   "cell_type": "code",
   "execution_count": null,
   "metadata": {
    "collapsed": true,
    "deletable": false,
    "nbgrader": {
     "checksum": "799d6a1449e3dc404a5e4182051d80d6",
     "grade": true,
     "grade_id": "problem_13_code_a",
     "locked": false,
     "points": 1,
     "schema_version": 1,
     "solution": true
    }
   },
   "outputs": [],
   "source": [
    "# Extract the names of the states from the matrix \n",
    "# and shorten them to the first five characters.\n",
    "# YOUR CODE HERE\n",
    "data(state)\n",
    "names = state.name\n",
    "upnames = c()\n",
    "for (i in 1:length(names)){upnames[i]=substring(names[i],1,5)}\n",
    "print(upnames)"
   ]
  },
  {
   "cell_type": "code",
   "execution_count": null,
   "metadata": {
    "collapsed": true,
    "deletable": false,
    "nbgrader": {
     "checksum": "b7be4b9c29d0f9716e5ff7812e2952a7",
     "grade": true,
     "grade_id": "problem_13_code_b",
     "locked": false,
     "points": 1,
     "schema_version": 1,
     "solution": true
    }
   },
   "outputs": [],
   "source": [
    "# Rank the states according to their illiteracy rate.\n",
    "# YOUR CODE HERE\n",
    "newdata = as.data.frame(state.x77)\n",
    "order(newdata[3])"
   ]
  },
  {
   "cell_type": "code",
   "execution_count": null,
   "metadata": {
    "collapsed": true,
    "deletable": false,
    "nbgrader": {
     "checksum": "28fd0243683426a2e6439c6b18d85872",
     "grade": true,
     "grade_id": "problem_13_code_c",
     "locked": false,
     "points": 1,
     "schema_version": 1,
     "solution": true
    }
   },
   "outputs": [],
   "source": [
    "# Use the function `paste` to create a vector \n",
    "# with one element per state, where each element \n",
    "# reads \"STATE NAME has population of STATE POP, \n",
    "# and a murder rate of MURDER\", where the values \n",
    "# of STATE NAME, STATE POP, and MURDER are taken \n",
    "# from `state.x77`.\n",
    "# YOUR CODE HERE\n",
    "stop(\"Not Implemented\")"
   ]
  },
  {
   "cell_type": "code",
   "execution_count": null,
   "metadata": {
    "collapsed": true,
    "deletable": false,
    "nbgrader": {
     "checksum": "ca5039f860dfb9028b861a39a5c953fe",
     "grade": true,
     "grade_id": "problem_13_code_d",
     "locked": false,
     "points": 1,
     "schema_version": 1,
     "solution": true
    }
   },
   "outputs": [],
   "source": [
    "# Again, use the function `paste` to create a \n",
    "# single string that reads \"STATE1 has an income \n",
    "# level of INCOME1, while STATE2 has an income \n",
    "# of INCOME2\", where STATE1 and STATE2 are two \n",
    "# states that you randomly select each time you \n",
    "# run your code, and INCOME1 and INCOME2 are the \n",
    "# corresponding incomes.\n",
    "# YOUR CODE HERE\n",
    "stop(\"Not Implemented\")"
   ]
  }
 ],
 "metadata": {
  "anaconda-cloud": {},
  "kernelspec": {
   "display_name": "R",
   "language": "R",
   "name": "ir"
  },
  "language_info": {
   "codemirror_mode": {
    "name": "ipython",
    "version": 3
   },
   "file_extension": ".py",
   "mimetype": "text/x-python",
   "name": "python",
   "nbconvert_exporter": "python",
   "pygments_lexer": "ipython3",
   "version": "3.6.1"
  }
 },
 "nbformat": 4,
 "nbformat_minor": 2
}
